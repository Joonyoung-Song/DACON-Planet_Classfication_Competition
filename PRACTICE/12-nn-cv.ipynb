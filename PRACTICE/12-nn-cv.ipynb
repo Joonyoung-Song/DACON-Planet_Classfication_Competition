{
 "cells": [
  {
   "cell_type": "markdown",
   "metadata": {},
   "source": [
    "# 데모"
   ]
  },
  {
   "cell_type": "markdown",
   "metadata": {},
   "source": [
    "## 라이브러리 import 및 설정"
   ]
  },
  {
   "cell_type": "code",
   "execution_count": 5,
   "metadata": {
    "ExecuteTime": {
     "end_time": "2020-10-29T00:33:08.020087Z",
     "start_time": "2020-10-29T00:33:07.931790Z"
    }
   },
   "outputs": [],
   "source": [
    "%reload_ext autoreload\n",
    "%autoreload 2\n",
    "%matplotlib inline"
   ]
  },
  {
   "cell_type": "code",
   "execution_count": 1,
   "metadata": {
    "ExecuteTime": {
     "end_time": "2020-10-29T00:55:15.549514Z",
     "start_time": "2020-10-29T00:55:15.462845Z"
    }
   },
   "outputs": [
    {
     "name": "stderr",
     "output_type": "stream",
     "text": [
      "C:\\Users\\ATIV\\Anaconda3\\lib\\site-packages\\statsmodels\\tools\\_testing.py:19: FutureWarning: pandas.util.testing is deprecated. Use the functions in the public API at pandas.testing instead.\n",
      "  import pandas.util.testing as tm\n"
     ]
    }
   ],
   "source": [
    "from matplotlib import pyplot as plt\n",
    "from matplotlib import rcParams\n",
    "import numpy as np\n",
    "from pathlib import Path\n",
    "import pandas as pd\n",
    "from sklearn.metrics import accuracy_score\n",
    "from sklearn.model_selection import StratifiedKFold\n",
    "from sklearn.preprocessing import StandardScaler, PolynomialFeatures\n",
    "import seaborn as sns\n",
    "from tensorflow import keras\n",
    "from tensorflow.keras import Input, Model, Sequential\n",
    "from tensorflow.keras.callbacks import EarlyStopping, ReduceLROnPlateau\n",
    "from tensorflow.keras.layers import Dense\n",
    "from tensorflow.keras.utils import plot_model, to_categorical\n",
    "import warnings"
   ]
  },
  {
   "cell_type": "code",
   "execution_count": 7,
   "metadata": {
    "ExecuteTime": {
     "end_time": "2020-10-29T00:33:08.190790Z",
     "start_time": "2020-10-29T00:33:08.110828Z"
    }
   },
   "outputs": [],
   "source": [
    "rcParams['figure.figsize'] = (16, 8)\n",
    "plt.style.use('fivethirtyeight')\n",
    "pd.set_option('max_columns', 100)\n",
    "pd.set_option(\"display.precision\", 4)\n",
    "warnings.simplefilter('ignore')"
   ]
  },
  {
   "cell_type": "markdown",
   "metadata": {},
   "source": [
    "## 학습데이터 로드"
   ]
  },
  {
   "cell_type": "markdown",
   "metadata": {},
   "source": [
    "[03-pandas-eda.ipynb](https://github.com/kaggler-tv/dku-kaggle-class/blob/master/notebook/03-pandas-eda.ipynb)에서 생성한 `feature.csv` 피처파일 사용"
   ]
  },
  {
   "cell_type": "code",
   "execution_count": 22,
   "metadata": {
    "ExecuteTime": {
     "end_time": "2020-10-29T00:33:08.274274Z",
     "start_time": "2020-10-29T00:33:08.193147Z"
    }
   },
   "outputs": [],
   "source": [
    "data_dir = Path('DATA')\n",
    "feature_dir = Path('DATA')\n",
    "val_dir = Path('val')\n",
    "tst_dir = Path('tst')\n",
    "sub_dir = Path('DATA')\n",
    "\n",
    "trn_file = data_dir /'train.csv'\n",
    "tst_file = data_dir /'test.csv'\n",
    "sample_file = data_dir / 'sample_submission.csv'\n",
    "\n",
    "target_col = 'class'\n",
    "n_fold = 5\n",
    "n_class = 3\n",
    "seed = 42"
   ]
  },
  {
   "cell_type": "code",
   "execution_count": 23,
   "metadata": {
    "ExecuteTime": {
     "end_time": "2020-10-29T00:33:08.360569Z",
     "start_time": "2020-10-29T00:33:08.276785Z"
    }
   },
   "outputs": [],
   "source": [
    "algo_name = 'nncv'\n",
    "feature_name = 'polyfeature'\n",
    "model_name = f'{algo_name}_{feature_name}'\n",
    "\n",
    "feature_file = feature_dir / f'{feature_name}.csv'\n",
    "p_val_file = val_dir / f'{model_name}.val.csv'\n",
    "p_tst_file = tst_dir / f'{model_name}.tst.csv'\n",
    "sub_file = sub_dir / f'{model_name}.csv'"
   ]
  },
  {
   "cell_type": "markdown",
   "metadata": {},
   "source": [
    "## Polynomial Feature 생성"
   ]
  },
  {
   "cell_type": "code",
   "execution_count": 24,
   "metadata": {
    "ExecuteTime": {
     "end_time": "2020-10-29T00:33:09.650026Z",
     "start_time": "2020-10-29T00:33:08.362564Z"
    }
   },
   "outputs": [
    {
     "name": "stdout",
     "output_type": "stream",
     "text": [
      "(320000, 19)\n"
     ]
    },
    {
     "data": {
      "text/html": [
       "<div>\n",
       "<style scoped>\n",
       "    .dataframe tbody tr th:only-of-type {\n",
       "        vertical-align: middle;\n",
       "    }\n",
       "\n",
       "    .dataframe tbody tr th {\n",
       "        vertical-align: top;\n",
       "    }\n",
       "\n",
       "    .dataframe thead th {\n",
       "        text-align: right;\n",
       "    }\n",
       "</style>\n",
       "<table border=\"1\" class=\"dataframe\">\n",
       "  <thead>\n",
       "    <tr style=\"text-align: right;\">\n",
       "      <th></th>\n",
       "      <th>u</th>\n",
       "      <th>g</th>\n",
       "      <th>r</th>\n",
       "      <th>i</th>\n",
       "      <th>z</th>\n",
       "      <th>redshift</th>\n",
       "      <th>dered_u</th>\n",
       "      <th>dered_g</th>\n",
       "      <th>dered_r</th>\n",
       "      <th>dered_i</th>\n",
       "      <th>dered_z</th>\n",
       "      <th>nObserve</th>\n",
       "      <th>nDetect</th>\n",
       "      <th>airmass_u</th>\n",
       "      <th>airmass_g</th>\n",
       "      <th>airmass_r</th>\n",
       "      <th>airmass_i</th>\n",
       "      <th>airmass_z</th>\n",
       "      <th>class</th>\n",
       "    </tr>\n",
       "    <tr>\n",
       "      <th>id</th>\n",
       "      <th></th>\n",
       "      <th></th>\n",
       "      <th></th>\n",
       "      <th></th>\n",
       "      <th></th>\n",
       "      <th></th>\n",
       "      <th></th>\n",
       "      <th></th>\n",
       "      <th></th>\n",
       "      <th></th>\n",
       "      <th></th>\n",
       "      <th></th>\n",
       "      <th></th>\n",
       "      <th></th>\n",
       "      <th></th>\n",
       "      <th></th>\n",
       "      <th></th>\n",
       "      <th></th>\n",
       "      <th></th>\n",
       "    </tr>\n",
       "  </thead>\n",
       "  <tbody>\n",
       "    <tr>\n",
       "      <th>0</th>\n",
       "      <td>23.263956</td>\n",
       "      <td>20.336773</td>\n",
       "      <td>19.009500</td>\n",
       "      <td>17.672439</td>\n",
       "      <td>16.939607</td>\n",
       "      <td>-0.000081</td>\n",
       "      <td>23.12426</td>\n",
       "      <td>20.25779</td>\n",
       "      <td>18.95512</td>\n",
       "      <td>17.63211</td>\n",
       "      <td>16.90894</td>\n",
       "      <td>18</td>\n",
       "      <td>18</td>\n",
       "      <td>1.189764</td>\n",
       "      <td>1.190681</td>\n",
       "      <td>1.188979</td>\n",
       "      <td>1.189355</td>\n",
       "      <td>1.190206</td>\n",
       "      <td>0</td>\n",
       "    </tr>\n",
       "    <tr>\n",
       "      <th>1</th>\n",
       "      <td>15.052147</td>\n",
       "      <td>14.061969</td>\n",
       "      <td>13.452418</td>\n",
       "      <td>13.268450</td>\n",
       "      <td>13.168941</td>\n",
       "      <td>0.004506</td>\n",
       "      <td>14.96642</td>\n",
       "      <td>14.00452</td>\n",
       "      <td>13.41139</td>\n",
       "      <td>13.23625</td>\n",
       "      <td>13.13468</td>\n",
       "      <td>1</td>\n",
       "      <td>1</td>\n",
       "      <td>1.253254</td>\n",
       "      <td>1.257836</td>\n",
       "      <td>1.248762</td>\n",
       "      <td>1.250997</td>\n",
       "      <td>1.255533</td>\n",
       "      <td>1</td>\n",
       "    </tr>\n",
       "    <tr>\n",
       "      <th>2</th>\n",
       "      <td>16.786385</td>\n",
       "      <td>15.825426</td>\n",
       "      <td>15.536318</td>\n",
       "      <td>15.393535</td>\n",
       "      <td>15.350032</td>\n",
       "      <td>0.000472</td>\n",
       "      <td>16.60765</td>\n",
       "      <td>15.68659</td>\n",
       "      <td>15.44004</td>\n",
       "      <td>15.32173</td>\n",
       "      <td>15.29608</td>\n",
       "      <td>2</td>\n",
       "      <td>2</td>\n",
       "      <td>1.022499</td>\n",
       "      <td>1.024105</td>\n",
       "      <td>1.020983</td>\n",
       "      <td>1.021730</td>\n",
       "      <td>1.023291</td>\n",
       "      <td>0</td>\n",
       "    </tr>\n",
       "    <tr>\n",
       "      <th>3</th>\n",
       "      <td>25.660638</td>\n",
       "      <td>21.188727</td>\n",
       "      <td>20.221158</td>\n",
       "      <td>19.894949</td>\n",
       "      <td>19.634649</td>\n",
       "      <td>0.000006</td>\n",
       "      <td>25.35365</td>\n",
       "      <td>20.99465</td>\n",
       "      <td>20.08727</td>\n",
       "      <td>19.79465</td>\n",
       "      <td>19.55518</td>\n",
       "      <td>4</td>\n",
       "      <td>3</td>\n",
       "      <td>1.205399</td>\n",
       "      <td>1.206058</td>\n",
       "      <td>1.204874</td>\n",
       "      <td>1.205120</td>\n",
       "      <td>1.205712</td>\n",
       "      <td>0</td>\n",
       "    </tr>\n",
       "    <tr>\n",
       "      <th>4</th>\n",
       "      <td>24.453429</td>\n",
       "      <td>20.699170</td>\n",
       "      <td>19.042368</td>\n",
       "      <td>18.324152</td>\n",
       "      <td>17.982649</td>\n",
       "      <td>-0.000033</td>\n",
       "      <td>23.77140</td>\n",
       "      <td>20.43384</td>\n",
       "      <td>18.86299</td>\n",
       "      <td>18.19028</td>\n",
       "      <td>17.87592</td>\n",
       "      <td>13</td>\n",
       "      <td>12</td>\n",
       "      <td>1.193946</td>\n",
       "      <td>1.194285</td>\n",
       "      <td>1.193738</td>\n",
       "      <td>1.193826</td>\n",
       "      <td>1.194099</td>\n",
       "      <td>0</td>\n",
       "    </tr>\n",
       "  </tbody>\n",
       "</table>\n",
       "</div>"
      ],
      "text/plain": [
       "            u          g          r          i          z  redshift   dered_u  \\\n",
       "id                                                                              \n",
       "0   23.263956  20.336773  19.009500  17.672439  16.939607 -0.000081  23.12426   \n",
       "1   15.052147  14.061969  13.452418  13.268450  13.168941  0.004506  14.96642   \n",
       "2   16.786385  15.825426  15.536318  15.393535  15.350032  0.000472  16.60765   \n",
       "3   25.660638  21.188727  20.221158  19.894949  19.634649  0.000006  25.35365   \n",
       "4   24.453429  20.699170  19.042368  18.324152  17.982649 -0.000033  23.77140   \n",
       "\n",
       "     dered_g   dered_r   dered_i   dered_z  nObserve  nDetect  airmass_u  \\\n",
       "id                                                                         \n",
       "0   20.25779  18.95512  17.63211  16.90894        18       18   1.189764   \n",
       "1   14.00452  13.41139  13.23625  13.13468         1        1   1.253254   \n",
       "2   15.68659  15.44004  15.32173  15.29608         2        2   1.022499   \n",
       "3   20.99465  20.08727  19.79465  19.55518         4        3   1.205399   \n",
       "4   20.43384  18.86299  18.19028  17.87592        13       12   1.193946   \n",
       "\n",
       "    airmass_g  airmass_r  airmass_i  airmass_z  class  \n",
       "id                                                     \n",
       "0    1.190681   1.188979   1.189355   1.190206      0  \n",
       "1    1.257836   1.248762   1.250997   1.255533      1  \n",
       "2    1.024105   1.020983   1.021730   1.023291      0  \n",
       "3    1.206058   1.204874   1.205120   1.205712      0  \n",
       "4    1.194285   1.193738   1.193826   1.194099      0  "
      ]
     },
     "execution_count": 24,
     "metadata": {},
     "output_type": "execute_result"
    }
   ],
   "source": [
    "df = pd.read_csv(data_dir/'train.csv', index_col=0)\n",
    "print(df.shape)\n",
    "df.head()"
   ]
  },
  {
   "cell_type": "code",
   "execution_count": 25,
   "metadata": {
    "ExecuteTime": {
     "end_time": "2020-10-29T00:33:10.862272Z",
     "start_time": "2020-10-29T00:33:09.651542Z"
    }
   },
   "outputs": [
    {
     "data": {
      "text/plain": [
       "['1',\n",
       " 'u',\n",
       " 'g',\n",
       " 'r',\n",
       " 'i',\n",
       " 'z',\n",
       " 'redshift',\n",
       " 'dered_u',\n",
       " 'dered_g',\n",
       " 'dered_r',\n",
       " 'dered_i',\n",
       " 'dered_z',\n",
       " 'nObserve',\n",
       " 'nDetect',\n",
       " 'airmass_u',\n",
       " 'airmass_g',\n",
       " 'airmass_r',\n",
       " 'airmass_i',\n",
       " 'airmass_z',\n",
       " 'u^2',\n",
       " 'u g',\n",
       " 'u r',\n",
       " 'u i',\n",
       " 'u z',\n",
       " 'u redshift',\n",
       " 'u dered_u',\n",
       " 'u dered_g',\n",
       " 'u dered_r',\n",
       " 'u dered_i',\n",
       " 'u dered_z',\n",
       " 'u nObserve',\n",
       " 'u nDetect',\n",
       " 'u airmass_u',\n",
       " 'u airmass_g',\n",
       " 'u airmass_r',\n",
       " 'u airmass_i',\n",
       " 'u airmass_z',\n",
       " 'g^2',\n",
       " 'g r',\n",
       " 'g i',\n",
       " 'g z',\n",
       " 'g redshift',\n",
       " 'g dered_u',\n",
       " 'g dered_g',\n",
       " 'g dered_r',\n",
       " 'g dered_i',\n",
       " 'g dered_z',\n",
       " 'g nObserve',\n",
       " 'g nDetect',\n",
       " 'g airmass_u',\n",
       " 'g airmass_g',\n",
       " 'g airmass_r',\n",
       " 'g airmass_i',\n",
       " 'g airmass_z',\n",
       " 'r^2',\n",
       " 'r i',\n",
       " 'r z',\n",
       " 'r redshift',\n",
       " 'r dered_u',\n",
       " 'r dered_g',\n",
       " 'r dered_r',\n",
       " 'r dered_i',\n",
       " 'r dered_z',\n",
       " 'r nObserve',\n",
       " 'r nDetect',\n",
       " 'r airmass_u',\n",
       " 'r airmass_g',\n",
       " 'r airmass_r',\n",
       " 'r airmass_i',\n",
       " 'r airmass_z',\n",
       " 'i^2',\n",
       " 'i z',\n",
       " 'i redshift',\n",
       " 'i dered_u',\n",
       " 'i dered_g',\n",
       " 'i dered_r',\n",
       " 'i dered_i',\n",
       " 'i dered_z',\n",
       " 'i nObserve',\n",
       " 'i nDetect',\n",
       " 'i airmass_u',\n",
       " 'i airmass_g',\n",
       " 'i airmass_r',\n",
       " 'i airmass_i',\n",
       " 'i airmass_z',\n",
       " 'z^2',\n",
       " 'z redshift',\n",
       " 'z dered_u',\n",
       " 'z dered_g',\n",
       " 'z dered_r',\n",
       " 'z dered_i',\n",
       " 'z dered_z',\n",
       " 'z nObserve',\n",
       " 'z nDetect',\n",
       " 'z airmass_u',\n",
       " 'z airmass_g',\n",
       " 'z airmass_r',\n",
       " 'z airmass_i',\n",
       " 'z airmass_z',\n",
       " 'redshift^2',\n",
       " 'redshift dered_u',\n",
       " 'redshift dered_g',\n",
       " 'redshift dered_r',\n",
       " 'redshift dered_i',\n",
       " 'redshift dered_z',\n",
       " 'redshift nObserve',\n",
       " 'redshift nDetect',\n",
       " 'redshift airmass_u',\n",
       " 'redshift airmass_g',\n",
       " 'redshift airmass_r',\n",
       " 'redshift airmass_i',\n",
       " 'redshift airmass_z',\n",
       " 'dered_u^2',\n",
       " 'dered_u dered_g',\n",
       " 'dered_u dered_r',\n",
       " 'dered_u dered_i',\n",
       " 'dered_u dered_z',\n",
       " 'dered_u nObserve',\n",
       " 'dered_u nDetect',\n",
       " 'dered_u airmass_u',\n",
       " 'dered_u airmass_g',\n",
       " 'dered_u airmass_r',\n",
       " 'dered_u airmass_i',\n",
       " 'dered_u airmass_z',\n",
       " 'dered_g^2',\n",
       " 'dered_g dered_r',\n",
       " 'dered_g dered_i',\n",
       " 'dered_g dered_z',\n",
       " 'dered_g nObserve',\n",
       " 'dered_g nDetect',\n",
       " 'dered_g airmass_u',\n",
       " 'dered_g airmass_g',\n",
       " 'dered_g airmass_r',\n",
       " 'dered_g airmass_i',\n",
       " 'dered_g airmass_z',\n",
       " 'dered_r^2',\n",
       " 'dered_r dered_i',\n",
       " 'dered_r dered_z',\n",
       " 'dered_r nObserve',\n",
       " 'dered_r nDetect',\n",
       " 'dered_r airmass_u',\n",
       " 'dered_r airmass_g',\n",
       " 'dered_r airmass_r',\n",
       " 'dered_r airmass_i',\n",
       " 'dered_r airmass_z',\n",
       " 'dered_i^2',\n",
       " 'dered_i dered_z',\n",
       " 'dered_i nObserve',\n",
       " 'dered_i nDetect',\n",
       " 'dered_i airmass_u',\n",
       " 'dered_i airmass_g',\n",
       " 'dered_i airmass_r',\n",
       " 'dered_i airmass_i',\n",
       " 'dered_i airmass_z',\n",
       " 'dered_z^2',\n",
       " 'dered_z nObserve',\n",
       " 'dered_z nDetect',\n",
       " 'dered_z airmass_u',\n",
       " 'dered_z airmass_g',\n",
       " 'dered_z airmass_r',\n",
       " 'dered_z airmass_i',\n",
       " 'dered_z airmass_z',\n",
       " 'nObserve^2',\n",
       " 'nObserve nDetect',\n",
       " 'nObserve airmass_u',\n",
       " 'nObserve airmass_g',\n",
       " 'nObserve airmass_r',\n",
       " 'nObserve airmass_i',\n",
       " 'nObserve airmass_z',\n",
       " 'nDetect^2',\n",
       " 'nDetect airmass_u',\n",
       " 'nDetect airmass_g',\n",
       " 'nDetect airmass_r',\n",
       " 'nDetect airmass_i',\n",
       " 'nDetect airmass_z',\n",
       " 'airmass_u^2',\n",
       " 'airmass_u airmass_g',\n",
       " 'airmass_u airmass_r',\n",
       " 'airmass_u airmass_i',\n",
       " 'airmass_u airmass_z',\n",
       " 'airmass_g^2',\n",
       " 'airmass_g airmass_r',\n",
       " 'airmass_g airmass_i',\n",
       " 'airmass_g airmass_z',\n",
       " 'airmass_r^2',\n",
       " 'airmass_r airmass_i',\n",
       " 'airmass_r airmass_z',\n",
       " 'airmass_i^2',\n",
       " 'airmass_i airmass_z',\n",
       " 'airmass_z^2']"
      ]
     },
     "execution_count": 25,
     "metadata": {},
     "output_type": "execute_result"
    }
   ],
   "source": [
    "scaler = StandardScaler()\n",
    "poly = PolynomialFeatures(2)\n",
    "X = poly.fit_transform(scaler.fit_transform(df.drop(target_col, axis=1)))\n",
    "feature_names = poly.get_feature_names(df.columns)\n",
    "feature_names"
   ]
  },
  {
   "cell_type": "code",
   "execution_count": 26,
   "metadata": {
    "ExecuteTime": {
     "end_time": "2020-10-29T00:35:17.256450Z",
     "start_time": "2020-10-29T00:33:10.865315Z"
    }
   },
   "outputs": [],
   "source": [
    "df_poly = pd.DataFrame(data=X, columns=feature_names, index=df.index)\n",
    "df_poly[target_col] = df[target_col]\n",
    "df_poly.head()\n",
    "df_poly.to_csv(feature_file)"
   ]
  },
  {
   "cell_type": "code",
   "execution_count": 27,
   "metadata": {
    "ExecuteTime": {
     "end_time": "2020-10-29T00:35:17.348877Z",
     "start_time": "2020-10-29T00:35:17.258250Z"
    }
   },
   "outputs": [],
   "source": [
    "del df_poly, df"
   ]
  },
  {
   "cell_type": "code",
   "execution_count": 28,
   "metadata": {
    "ExecuteTime": {
     "end_time": "2020-10-29T00:35:32.540680Z",
     "start_time": "2020-10-29T00:35:17.350867Z"
    }
   },
   "outputs": [
    {
     "name": "stdout",
     "output_type": "stream",
     "text": [
      "(320000, 191)\n"
     ]
    },
    {
     "data": {
      "text/html": [
       "<div>\n",
       "<style scoped>\n",
       "    .dataframe tbody tr th:only-of-type {\n",
       "        vertical-align: middle;\n",
       "    }\n",
       "\n",
       "    .dataframe tbody tr th {\n",
       "        vertical-align: top;\n",
       "    }\n",
       "\n",
       "    .dataframe thead th {\n",
       "        text-align: right;\n",
       "    }\n",
       "</style>\n",
       "<table border=\"1\" class=\"dataframe\">\n",
       "  <thead>\n",
       "    <tr style=\"text-align: right;\">\n",
       "      <th></th>\n",
       "      <th>1</th>\n",
       "      <th>u</th>\n",
       "      <th>g</th>\n",
       "      <th>r</th>\n",
       "      <th>i</th>\n",
       "      <th>z</th>\n",
       "      <th>redshift</th>\n",
       "      <th>dered_u</th>\n",
       "      <th>dered_g</th>\n",
       "      <th>dered_r</th>\n",
       "      <th>...</th>\n",
       "      <th>airmass_g airmass_r</th>\n",
       "      <th>airmass_g airmass_i</th>\n",
       "      <th>airmass_g airmass_z</th>\n",
       "      <th>airmass_r^2</th>\n",
       "      <th>airmass_r airmass_i</th>\n",
       "      <th>airmass_r airmass_z</th>\n",
       "      <th>airmass_i^2</th>\n",
       "      <th>airmass_i airmass_z</th>\n",
       "      <th>airmass_z^2</th>\n",
       "      <th>class</th>\n",
       "    </tr>\n",
       "    <tr>\n",
       "      <th>id</th>\n",
       "      <th></th>\n",
       "      <th></th>\n",
       "      <th></th>\n",
       "      <th></th>\n",
       "      <th></th>\n",
       "      <th></th>\n",
       "      <th></th>\n",
       "      <th></th>\n",
       "      <th></th>\n",
       "      <th></th>\n",
       "      <th></th>\n",
       "      <th></th>\n",
       "      <th></th>\n",
       "      <th></th>\n",
       "      <th></th>\n",
       "      <th></th>\n",
       "      <th></th>\n",
       "      <th></th>\n",
       "      <th></th>\n",
       "      <th></th>\n",
       "      <th></th>\n",
       "    </tr>\n",
       "  </thead>\n",
       "  <tbody>\n",
       "    <tr>\n",
       "      <th>0</th>\n",
       "      <td>1.0</td>\n",
       "      <td>1.753507</td>\n",
       "      <td>0.062999</td>\n",
       "      <td>0.868712</td>\n",
       "      <td>0.009479</td>\n",
       "      <td>0.001127</td>\n",
       "      <td>-0.101465</td>\n",
       "      <td>1.817122</td>\n",
       "      <td>0.114171</td>\n",
       "      <td>0.909484</td>\n",
       "      <td>...</td>\n",
       "      <td>0.014469</td>\n",
       "      <td>0.014454</td>\n",
       "      <td>0.014404</td>\n",
       "      <td>0.014570</td>\n",
       "      <td>0.014554</td>\n",
       "      <td>0.014504</td>\n",
       "      <td>0.014539</td>\n",
       "      <td>0.014489</td>\n",
       "      <td>0.014439</td>\n",
       "      <td>0</td>\n",
       "    </tr>\n",
       "    <tr>\n",
       "      <th>1</th>\n",
       "      <td>1.0</td>\n",
       "      <td>-2.467320</td>\n",
       "      <td>-0.138694</td>\n",
       "      <td>-2.921312</td>\n",
       "      <td>-0.074309</td>\n",
       "      <td>-0.064856</td>\n",
       "      <td>-0.093494</td>\n",
       "      <td>-2.423838</td>\n",
       "      <td>-0.237402</td>\n",
       "      <td>-2.854036</td>\n",
       "      <td>...</td>\n",
       "      <td>0.441995</td>\n",
       "      <td>0.450625</td>\n",
       "      <td>0.466759</td>\n",
       "      <td>0.411921</td>\n",
       "      <td>0.419964</td>\n",
       "      <td>0.435001</td>\n",
       "      <td>0.428164</td>\n",
       "      <td>0.443494</td>\n",
       "      <td>0.459373</td>\n",
       "      <td>1</td>\n",
       "    </tr>\n",
       "    <tr>\n",
       "      <th>2</th>\n",
       "      <td>1.0</td>\n",
       "      <td>-1.575931</td>\n",
       "      <td>-0.082011</td>\n",
       "      <td>-1.500057</td>\n",
       "      <td>-0.033878</td>\n",
       "      <td>-0.026689</td>\n",
       "      <td>-0.100504</td>\n",
       "      <td>-1.570623</td>\n",
       "      <td>-0.142833</td>\n",
       "      <td>-1.476829</td>\n",
       "      <td>...</td>\n",
       "      <td>1.734670</td>\n",
       "      <td>1.718216</td>\n",
       "      <td>1.684203</td>\n",
       "      <td>1.805405</td>\n",
       "      <td>1.788280</td>\n",
       "      <td>1.752880</td>\n",
       "      <td>1.771317</td>\n",
       "      <td>1.736252</td>\n",
       "      <td>1.701882</td>\n",
       "      <td>0</td>\n",
       "    </tr>\n",
       "    <tr>\n",
       "      <th>3</th>\n",
       "      <td>1.0</td>\n",
       "      <td>2.985389</td>\n",
       "      <td>0.090383</td>\n",
       "      <td>1.695083</td>\n",
       "      <td>0.051763</td>\n",
       "      <td>0.048288</td>\n",
       "      <td>-0.101314</td>\n",
       "      <td>2.976100</td>\n",
       "      <td>0.155599</td>\n",
       "      <td>1.678076</td>\n",
       "      <td>...</td>\n",
       "      <td>0.064843</td>\n",
       "      <td>0.064301</td>\n",
       "      <td>0.063158</td>\n",
       "      <td>0.067213</td>\n",
       "      <td>0.066652</td>\n",
       "      <td>0.065466</td>\n",
       "      <td>0.066094</td>\n",
       "      <td>0.064919</td>\n",
       "      <td>0.063765</td>\n",
       "      <td>0</td>\n",
       "    </tr>\n",
       "    <tr>\n",
       "      <th>4</th>\n",
       "      <td>1.0</td>\n",
       "      <td>2.364890</td>\n",
       "      <td>0.074647</td>\n",
       "      <td>0.891128</td>\n",
       "      <td>0.021878</td>\n",
       "      <td>0.019379</td>\n",
       "      <td>-0.101382</td>\n",
       "      <td>2.153547</td>\n",
       "      <td>0.124069</td>\n",
       "      <td>0.846939</td>\n",
       "      <td>...</td>\n",
       "      <td>0.024393</td>\n",
       "      <td>0.023957</td>\n",
       "      <td>0.023070</td>\n",
       "      <td>0.026305</td>\n",
       "      <td>0.025835</td>\n",
       "      <td>0.024878</td>\n",
       "      <td>0.025374</td>\n",
       "      <td>0.024434</td>\n",
       "      <td>0.023529</td>\n",
       "      <td>0</td>\n",
       "    </tr>\n",
       "  </tbody>\n",
       "</table>\n",
       "<p>5 rows × 191 columns</p>\n",
       "</div>"
      ],
      "text/plain": [
       "      1         u         g         r         i         z  redshift   dered_u  \\\n",
       "id                                                                              \n",
       "0   1.0  1.753507  0.062999  0.868712  0.009479  0.001127 -0.101465  1.817122   \n",
       "1   1.0 -2.467320 -0.138694 -2.921312 -0.074309 -0.064856 -0.093494 -2.423838   \n",
       "2   1.0 -1.575931 -0.082011 -1.500057 -0.033878 -0.026689 -0.100504 -1.570623   \n",
       "3   1.0  2.985389  0.090383  1.695083  0.051763  0.048288 -0.101314  2.976100   \n",
       "4   1.0  2.364890  0.074647  0.891128  0.021878  0.019379 -0.101382  2.153547   \n",
       "\n",
       "     dered_g   dered_r  ...  airmass_g airmass_r  airmass_g airmass_i  \\\n",
       "id                      ...                                             \n",
       "0   0.114171  0.909484  ...             0.014469             0.014454   \n",
       "1  -0.237402 -2.854036  ...             0.441995             0.450625   \n",
       "2  -0.142833 -1.476829  ...             1.734670             1.718216   \n",
       "3   0.155599  1.678076  ...             0.064843             0.064301   \n",
       "4   0.124069  0.846939  ...             0.024393             0.023957   \n",
       "\n",
       "    airmass_g airmass_z  airmass_r^2  airmass_r airmass_i  \\\n",
       "id                                                          \n",
       "0              0.014404     0.014570             0.014554   \n",
       "1              0.466759     0.411921             0.419964   \n",
       "2              1.684203     1.805405             1.788280   \n",
       "3              0.063158     0.067213             0.066652   \n",
       "4              0.023070     0.026305             0.025835   \n",
       "\n",
       "    airmass_r airmass_z  airmass_i^2  airmass_i airmass_z  airmass_z^2  class  \n",
       "id                                                                             \n",
       "0              0.014504     0.014539             0.014489     0.014439      0  \n",
       "1              0.435001     0.428164             0.443494     0.459373      1  \n",
       "2              1.752880     1.771317             1.736252     1.701882      0  \n",
       "3              0.065466     0.066094             0.064919     0.063765      0  \n",
       "4              0.024878     0.025374             0.024434     0.023529      0  \n",
       "\n",
       "[5 rows x 191 columns]"
      ]
     },
     "execution_count": 28,
     "metadata": {},
     "output_type": "execute_result"
    }
   ],
   "source": [
    "df = pd.read_csv(feature_file, index_col=0)\n",
    "print(df.shape)\n",
    "df.head()"
   ]
  },
  {
   "cell_type": "code",
   "execution_count": 29,
   "metadata": {
    "ExecuteTime": {
     "end_time": "2020-10-29T00:35:32.931819Z",
     "start_time": "2020-10-29T00:35:32.542363Z"
    }
   },
   "outputs": [
    {
     "name": "stdout",
     "output_type": "stream",
     "text": [
      "(320000,) (320000, 190) (0, 190)\n"
     ]
    }
   ],
   "source": [
    "y = df[target_col].values[:320000]\n",
    "df.drop(target_col, axis=1, inplace=True)\n",
    "trn = df.iloc[:320000].values\n",
    "tst = df.iloc[320000:].values\n",
    "feature_name = df.columns.tolist()\n",
    "print(y.shape, trn.shape, tst.shape)"
   ]
  },
  {
   "cell_type": "markdown",
   "metadata": {},
   "source": [
    "## Stratified K-Fold Cross Validation"
   ]
  },
  {
   "cell_type": "code",
   "execution_count": 30,
   "metadata": {
    "ExecuteTime": {
     "end_time": "2020-10-29T00:35:33.007194Z",
     "start_time": "2020-10-29T00:35:32.933566Z"
    }
   },
   "outputs": [],
   "source": [
    "cv = StratifiedKFold(n_splits=n_fold, shuffle=True, random_state=seed)"
   ]
  },
  {
   "cell_type": "markdown",
   "metadata": {},
   "source": [
    "## Keras Model"
   ]
  },
  {
   "cell_type": "markdown",
   "metadata": {},
   "source": [
    "### Sequential API"
   ]
  },
  {
   "cell_type": "code",
   "execution_count": 31,
   "metadata": {
    "ExecuteTime": {
     "end_time": "2020-10-29T00:35:33.082831Z",
     "start_time": "2020-10-29T00:35:33.009088Z"
    }
   },
   "outputs": [],
   "source": [
    "def get_model():\n",
    "    model = Sequential()\n",
    "\n",
    "    model.add(Dense(units=64, activation='relu'))\n",
    "    model.add(Dense(units=n_class, activation='softmax'))\n",
    "    model.compile(loss='categorical_crossentropy',\n",
    "                  optimizer='adam')\n",
    "    return model"
   ]
  },
  {
   "cell_type": "markdown",
   "metadata": {},
   "source": [
    "### Functional API"
   ]
  },
  {
   "cell_type": "code",
   "execution_count": 32,
   "metadata": {
    "ExecuteTime": {
     "end_time": "2020-10-29T00:36:08.387259Z",
     "start_time": "2020-10-29T00:36:08.306748Z"
    }
   },
   "outputs": [],
   "source": [
    "def get_model():\n",
    "    inputs = Input(shape=(len(feature_name),))\n",
    "    x = Dense(64, activation='relu')(inputs)\n",
    "    outputs = Dense(n_class, activation='softmax')(x)\n",
    "    model = Model(inputs=inputs, outputs=outputs)\n",
    "    model.compile(loss='categorical_crossentropy',\n",
    "                  optimizer='adam')\n",
    "    return model"
   ]
  },
  {
   "cell_type": "markdown",
   "metadata": {},
   "source": [
    "## 신경망 모델 학습"
   ]
  },
  {
   "cell_type": "code",
   "execution_count": 36,
   "metadata": {
    "ExecuteTime": {
     "end_time": "2020-10-29T01:00:08.282711Z",
     "start_time": "2020-10-29T00:56:01.614403Z"
    }
   },
   "outputs": [
    {
     "name": "stdout",
     "output_type": "stream",
     "text": [
      "training model for CV #1\n",
      "Train on 256000 samples, validate on 64000 samples\n",
      "Epoch 1/2\n",
      "256000/256000 [==============================] - 22s 84us/sample - loss: 2.9261 - val_loss: 0.2700\n",
      "Epoch 2/2\n",
      "256000/256000 [==============================] - 22s 88us/sample - loss: 0.8317 - val_loss: 0.2477\n",
      "training model for CV #2\n",
      "Train on 256000 samples, validate on 64000 samples\n",
      "Epoch 1/2\n",
      "256000/256000 [==============================] - 22s 86us/sample - loss: 1.4401 - val_loss: 15.7126\n",
      "Epoch 2/2\n",
      "256000/256000 [==============================] - 22s 86us/sample - loss: 0.2634 - val_loss: 15.2190\n",
      "training model for CV #3\n",
      "Train on 256000 samples, validate on 64000 samples\n",
      "Epoch 1/2\n",
      "256000/256000 [==============================] - 23s 88us/sample - loss: 3.0851 - val_loss: 0.2809\n",
      "Epoch 2/2\n",
      "256000/256000 [==============================] - 22s 86us/sample - loss: 1.5835 - val_loss: 0.2546\n",
      "training model for CV #4\n",
      "Train on 256000 samples, validate on 64000 samples\n",
      "Epoch 1/2\n",
      "256000/256000 [==============================] - 23s 89us/sample - loss: 0.4373 - val_loss: 3.1657\n",
      "Epoch 2/2\n",
      "256000/256000 [==============================] - 22s 87us/sample - loss: 0.6556 - val_loss: 5.8298\n",
      "training model for CV #5\n",
      "Train on 256000 samples, validate on 64000 samples\n",
      "Epoch 1/2\n",
      "256000/256000 [==============================] - 23s 89us/sample - loss: 2.8488 - val_loss: 0.3350\n",
      "Epoch 2/2\n",
      "256000/256000 [==============================] - 22s 88us/sample - loss: 0.6633 - val_loss: 0.2501\n"
     ]
    }
   ],
   "source": [
    "p_val = np.zeros((trn.shape[0], n_class))\n",
    "p_tst = np.zeros((tst.shape[0], n_class))\n",
    "for i, (i_trn, i_val) in enumerate(cv.split(trn, y), 1):\n",
    "    print(f'training model for CV #{i}')\n",
    "    clf = get_model()\n",
    "    \n",
    "    es = EarlyStopping(monitor='val_loss', min_delta=0.001, patience=5,\n",
    "                       verbose=1, mode='min', baseline=None, restore_best_weights=True)\n",
    "\n",
    "    rlr = ReduceLROnPlateau(monitor='val_loss', factor=0.5,\n",
    "                            patience=3, min_lr=1e-6, mode='min', verbose=1)\n",
    "\n",
    "    clf.fit(trn[i_trn], \n",
    "            to_categorical(y[i_trn]),\n",
    "            validation_data=(trn[i_val], to_categorical(y[i_val])),\n",
    "            epochs=2, # 에포크는 일반적으로 10 정도로 둠\n",
    "            callbacks=[es, rlr])\n",
    "    p_val[i_val, :] = clf.predict(trn[i_val])\n",
    "#     p_tst += clf.predict(tst) / n_fold"
   ]
  },
  {
   "cell_type": "code",
   "execution_count": 37,
   "metadata": {
    "ExecuteTime": {
     "end_time": "2020-10-29T01:16:23.483517Z",
     "start_time": "2020-10-29T01:16:23.382464Z"
    }
   },
   "outputs": [
    {
     "name": "stdout",
     "output_type": "stream",
     "text": [
      "90.7678%\n"
     ]
    }
   ],
   "source": [
    "print(f'{accuracy_score(y, np.argmax(p_val, axis=1)) * 100:.4f}%')"
   ]
  },
  {
   "cell_type": "code",
   "execution_count": 38,
   "metadata": {
    "ExecuteTime": {
     "end_time": "2020-10-29T00:38:52.757608Z",
     "start_time": "2020-10-29T00:38:52.680030Z"
    }
   },
   "outputs": [
    {
     "name": "stdout",
     "output_type": "stream",
     "text": [
      "(320000, 3) (0, 3)\n"
     ]
    }
   ],
   "source": [
    "print(p_val.shape, p_tst.shape)"
   ]
  },
  {
   "cell_type": "code",
   "execution_count": 39,
   "metadata": {
    "ExecuteTime": {
     "end_time": "2020-10-29T00:38:53.645542Z",
     "start_time": "2020-10-29T00:38:52.759859Z"
    }
   },
   "outputs": [],
   "source": [
    "# np.savetxt(p_val_file, p_val, fmt='%.6f', delimiter=',')\n",
    "# np.savetxt(p_tst_file, p_tst, fmt='%.6f', delimiter=',')"
   ]
  },
  {
   "cell_type": "markdown",
   "metadata": {},
   "source": [
    "## 신경망 모델 시각화"
   ]
  },
  {
   "cell_type": "code",
   "execution_count": 40,
   "metadata": {
    "ExecuteTime": {
     "end_time": "2020-10-29T00:38:53.730394Z",
     "start_time": "2020-10-29T00:38:53.647146Z"
    }
   },
   "outputs": [
    {
     "name": "stdout",
     "output_type": "stream",
     "text": [
      "Model: \"model_7\"\n",
      "_________________________________________________________________\n",
      "Layer (type)                 Output Shape              Param #   \n",
      "=================================================================\n",
      "input_8 (InputLayer)         [(None, 190)]             0         \n",
      "_________________________________________________________________\n",
      "dense_14 (Dense)             (None, 64)                12224     \n",
      "_________________________________________________________________\n",
      "dense_15 (Dense)             (None, 3)                 195       \n",
      "=================================================================\n",
      "Total params: 12,419\n",
      "Trainable params: 12,419\n",
      "Non-trainable params: 0\n",
      "_________________________________________________________________\n"
     ]
    }
   ],
   "source": [
    "clf.summary()"
   ]
  },
  {
   "cell_type": "markdown",
   "metadata": {},
   "source": [
    "## 제출 파일 생성"
   ]
  },
  {
   "cell_type": "code",
   "execution_count": null,
   "metadata": {
    "ExecuteTime": {
     "end_time": "2020-10-29T00:38:53.821653Z",
     "start_time": "2020-10-29T00:36:56.680Z"
    }
   },
   "outputs": [],
   "source": [
    "sub = pd.read_csv(sample_file, index_col=0)\n",
    "print(sub.shape)\n",
    "sub.head()"
   ]
  },
  {
   "cell_type": "code",
   "execution_count": null,
   "metadata": {
    "ExecuteTime": {
     "end_time": "2020-10-29T00:38:53.822726Z",
     "start_time": "2020-10-29T00:36:56.681Z"
    }
   },
   "outputs": [],
   "source": [
    "sub[target_col] = np.argmax(p_tst, axis=1)\n",
    "sub.head()"
   ]
  },
  {
   "cell_type": "code",
   "execution_count": null,
   "metadata": {
    "ExecuteTime": {
     "end_time": "2020-10-29T00:38:53.824075Z",
     "start_time": "2020-10-29T00:36:56.683Z"
    }
   },
   "outputs": [],
   "source": [
    "sub[target_col].value_counts()"
   ]
  },
  {
   "cell_type": "code",
   "execution_count": null,
   "metadata": {
    "ExecuteTime": {
     "end_time": "2020-10-29T00:38:53.825176Z",
     "start_time": "2020-10-29T00:36:56.684Z"
    }
   },
   "outputs": [],
   "source": [
    "sub.to_csv(sub_file)"
   ]
  },
  {
   "cell_type": "code",
   "execution_count": null,
   "metadata": {},
   "outputs": [],
   "source": []
  }
 ],
 "metadata": {
  "kernelspec": {
   "display_name": "Python 3",
   "language": "python",
   "name": "python3"
  },
  "language_info": {
   "codemirror_mode": {
    "name": "ipython",
    "version": 3
   },
   "file_extension": ".py",
   "mimetype": "text/x-python",
   "name": "python",
   "nbconvert_exporter": "python",
   "pygments_lexer": "ipython3",
   "version": "3.7.4"
  },
  "toc": {
   "base_numbering": 1,
   "nav_menu": {},
   "number_sections": true,
   "sideBar": true,
   "skip_h1_title": true,
   "title_cell": "Table of Contents",
   "title_sidebar": "Contents",
   "toc_cell": false,
   "toc_position": {},
   "toc_section_display": true,
   "toc_window_display": false
  }
 },
 "nbformat": 4,
 "nbformat_minor": 4
}
