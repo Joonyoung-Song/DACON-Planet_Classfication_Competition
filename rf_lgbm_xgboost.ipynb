{
 "cells": [
  {
   "cell_type": "markdown",
   "metadata": {},
   "source": [
    "# RF / LGBM / XGBOOST"
   ]
  },
  {
   "cell_type": "code",
   "execution_count": 1,
   "metadata": {
    "scrolled": false
   },
   "outputs": [],
   "source": [
    "from matplotlib import pyplot as plt\n",
    "from matplotlib import rcParams\n",
    "import numpy as np\n",
    "import pandas as pd\n",
    "import seaborn as sns\n",
    "import math\n",
    "import warnings\n",
    "from tqdm import tqdm\n",
    "import lightgbm as lgbm\n",
    "from lightgbm import LGBMClassifier\n",
    "from sklearn.model_selection import train_test_split\n",
    "from sklearn.metrics import confusion_matrix\n",
    "from sklearn.metrics import accuracy_score\n",
    "from sklearn.model_selection import KFold\n",
    "from scipy.stats import skew, kurtosis\n",
    "import itertools\n",
    "from sklearn.ensemble import RandomForestClassifier\n",
    "import xgboost as xgb"
   ]
  },
  {
   "cell_type": "code",
   "execution_count": 2,
   "metadata": {
    "scrolled": false
   },
   "outputs": [],
   "source": [
    "trn = pd.read_csv('C:/python/DACON_DATA/train.csv', index_col=0)\n",
    "tst = pd.read_csv('C:/python/DACON_DATA/test.csv', index_col=0)"
   ]
  },
  {
   "cell_type": "code",
   "execution_count": 3,
   "metadata": {
    "scrolled": false
   },
   "outputs": [
    {
     "name": "stderr",
     "output_type": "stream",
     "text": [
      "78it [00:01, 40.54it/s] \n",
      "C:\\Users\\ATIV\\Anaconda3\\lib\\site-packages\\pandas\\core\\series.py:853: RuntimeWarning: invalid value encountered in log1p\n",
      "  result = getattr(ufunc, method)(*inputs, **kwargs)\n"
     ]
    }
   ],
   "source": [
    "all_fea=['u','g','r','i','z','redshift','dered_u','dered_g','dered_r','dered_i','dered_z','nObserve','nDetect','airmass_u','airmass_g','airmass_r','airmass_i','airmass_z']\n",
    "fea=['u', 'g', 'r', 'i', 'z', 'redshift', 'dered_u', 'dered_g','dered_r', 'dered_i', 'dered_z']\n",
    "fea2=['u','g','r','i','z','redshift','dered_u','dered_g','dered_r','dered_i','dered_z','nObserve','nDetect']\n",
    "names=['u','g','r','i','z']\n",
    "names_2 = ['dered_u','dered_g','dered_r','dered_i','dered_z']\n",
    "airmass=['airmass_u','airmass_g','airmass_r','airmass_i','airmass_z']\n",
    "\n",
    "#이상치 제거\n",
    "for i in range(len(fea)):\n",
    "    trn=trn[trn[fea[i]]>np.min(tst[fea[i]], axis=0)]\n",
    "    trn=trn[trn[fea[i]]<np.max(tst[fea[i]], axis=0)]\n",
    "    \n",
    "# 설명변수와 반응변수 분리\n",
    "trn_target = trn['class']\n",
    "trn = trn.drop('class', axis=1)\n",
    "\n",
    "# 옵저브 디텍트 연속형으로 전환\n",
    "trn['nObserve']=trn['nObserve'].astype('float')\n",
    "trn['nDetect']=trn['nDetect'].astype('float')\n",
    "trnnO = trn['nObserve']\n",
    "trnnD = trn['nDetect']\n",
    "\n",
    "#카테고리별 max, min, max-min, std, sum을 구한다.\n",
    "#max-min\n",
    "trn['max-min'] = trn[all_fea].max(axis=1)-trn[all_fea].min(axis=1)\n",
    "trn['max-min_ugriz'] = trn[names].max(axis=1)-trn[names].min(axis=1)\n",
    "trn['max-min_dered'] = trn[names_2].max(axis=1)-trn[names_2].min(axis=1)\n",
    "#std\n",
    "trn['std'] = trn[all_fea].std(axis=1)\n",
    "trn['std_ugriz'] = trn[names].std(axis=1)\n",
    "trn['std_dered'] = trn[names_2].std(axis=1)\n",
    "#파장별 합\n",
    "trn['sum'] = trn[all_fea].sum(axis=1)\n",
    "trn['sum_ugriz'] = trn[names].sum(axis=1)\n",
    "trn['sum_dered'] = trn[names_2].sum(axis=1)\n",
    "#파장별 최대값\n",
    "trn['max'] = trn[all_fea].max(axis=1)\n",
    "trn['max_ugriz'] = trn[names].max(axis=1)\n",
    "trn['max_dered'] = trn[names_2].max(axis=1)\n",
    "#파장별 최소값\n",
    "trn['min'] = trn[all_fea].min(axis=1)\n",
    "trn['min_ugriz'] = trn[names].min(axis=1)\n",
    "trn['min_dered'] = trn[names_2].min(axis=1)\n",
    "#파장별 max-max,min=min,sum-sum\n",
    "trn['max-max']=trn[names].max(axis=1)-trn[names_2].max(axis=1)\n",
    "trn['min-min']=trn[names].min(axis=1)-trn[names_2].min(axis=1)\n",
    "trn['sum-sum']=trn[names].sum(axis=1)-trn[names_2].sum(axis=1)\n",
    "\n",
    "#왜도,첨도 구하기\n",
    "trn['skew']=skew(trn[names],axis=1)\n",
    "trn['kurtosis']=kurtosis(trn[names],axis=1)\n",
    "trn['dered_skew']=skew(trn[names_2],axis=1)\n",
    "trn['dered_kurtosis']=kurtosis(trn[names_2],axis=1)\n",
    "trn['airmass_skew']=skew(trn[airmass],axis=1)\n",
    "trn['airmass_kurtosis']=kurtosis(trn[airmass],axis=1)\n",
    "\n",
    "\n",
    "#조합으로 연산 피쳐 생성\n",
    "for c1,c2 in tqdm(itertools.combinations(fea2,2)):\n",
    "    dif_col=f'diff_{c1}_{c2}'\n",
    "    div_col=f'div_{c1}_{c2}'\n",
    "    sum_col=f'sum_{c1}_{c2}'\n",
    "    mul_col=f'mul_{c1}_{c2}'\n",
    "    trn[dif_col]=trn[c1]-trn[c2]\n",
    "    trn[div_col]=trn[c1]/trn[c2]\n",
    "    trn[sum_col]=trn[c1]+trn[c2]\n",
    "    trn[mul_col]=trn[c1]*trn[c2]\n",
    "\n",
    "\n",
    "# 소수점 4자리 까지만 나타내는 asinh 변수 생성\n",
    "trn['asinh_mu'] = -2.5/np.log(10)*(np.arcsinh(trn.u/24.63/(2.8e-10))-22.689378693319245)\n",
    "trn['asinh_mg'] = -2.5/np.log(10)*(np.arcsinh(trn.g/25.11/(1.8e-10))-23.131211445598282)\n",
    "trn['asinh_mr'] = -2.5/np.log(10)*(np.arcsinh(trn.r/24.80/(2.4e-10))-22.843529373146502)\n",
    "trn['asinh_mi'] = -2.5/np.log(10)*(np.arcsinh(trn.i/24.36/(3.6e-10))-22.43806426503834)\n",
    "trn['asinh_mz'] = -2.5/np.log(10)*(np.arcsinh(trn.z/22.83/(1.48e-09))-21.024370929730330)\n",
    "\n",
    "\n",
    "trn['redshift%14'] = trn['redshift']%14\n",
    "trn['log_redshift']=np.log1p(trn['redshift'])\n",
    "trn['log_redshift']=trn['log_redshift'].fillna(0)\n",
    "\n",
    "#도메인에서 얻은 파생변수 생성\n",
    "#출처: https://www.sdss.org/dr16/algorithms/segue_target_selection/#Legacy\n",
    "trn['l-color'] = (-0.436*trn['u']) + (1.129*trn['g']) - (0.119*trn['r']) - (0.574*trn['i']) + (0.1984)\n",
    "trn['s-color'] = (-0.249*trn['u']) + (0.794*trn['g']) - (0.555*trn['r']) + (0.234)\n",
    "trn['P1'] = (0.91*(trn['u']-trn['g'])) + (0.415*(trn['g']-trn['r'])) - (1.280)\n",
    "\n",
    "\n",
    "trn['class'] = trn_target\n",
    "\n",
    "#피쳐 제거\n",
    "PI30_1=['dered_z','dered_g','div_dered_g_dered_z','sum_dered_i_nDetect','mul_dered_g_dered_z','sum_z_dered_i','diff_r_redshift','sum_u_redshift','sum_dered_r_nDetect','mul_g_dered_z','sum_dered_r_dered_z','div_r_nObserve','sum_i_redshift','diff_dered_g_dered_z','sum_dered_g_dered_r','sum_r_dered_z','diff_u_redshift','mul_u_dered_z','mul_dered_g_dered_r','mul_i_dered_r','div_i_dered_g','sum_r_redshift','div_u_dered_z','mul_r_z','div_g_z','diff_u_dered_z','mul_r_dered_g','sum_redshift_dered_z','u','div_redshift_dered_u']\n",
    "trn=trn[trn.columns.difference(PI30_1)]\n",
    "PI30_2=['mul_dered_g_nDetect','sum_r_nObserve','sum_i_dered_r','diff_z_nObserve','mul_nObserve_nDetect','asinh_mz','nObserve','asinh_mg','diff_g_dered_z','mul_g_dered_u','log_redshift','nDetect','mul_u_z','sum_r_nDetect','div_dered_i_nObserve','sum_i_z','sum_u_dered_r','dered_i','mul_g_dered_r','mul_z_dered_i','div_g_nDetect','diff_dered_g_nObserve','mul_r_dered_z','sum_i_nDetect','diff_z_dered_g','mul_g_z','sum_z_dered_z','mul_dered_u_nObserve','div_redshift_nObserve','dered_r']\n",
    "trn=trn[trn.columns.difference(PI30_2)]\n",
    "PI30_3=[\"mul_g_i\",\"sum_redshift_dered_u\",\"sum_g_i\",\"sum_z_dered_g\",\"sum_i_dered_z\",\"mul_r_dered_r\",\"div_g_i\",\"mul_dered_r_dered_i\",\"g\",\"div_dered_i_nDetect\",\"mul_dered_r_nObserve\",\"sum_r_i\",\"min_dered\",\"mul_i_dered_z\",\"div_dered_r_nObserve\",\"diff_dered_z_nDetect\",\"div_i_nDetect\",\"sum_nObserve_nDetect\",\"max_dered\",\"mul_g_r\",\"div_z_nObserve\",\"sum_i_dered_u\",\"mul_dered_r_nDetect\",\"div_dered_g_nObserve\",\"mul_r_i\",\"diff_i_nDetect\",\"sum_u_r\",\"sum_dered_g_nDetect\",\"div_u_nDetect\",\"sum_u_dered_g\"]\n",
    "trn=trn[trn.columns.difference(PI30_3)]\n",
    "PI30_4=[\"div_r_nDetect\",\"mul_u_g\",\"diff_dered_i_nDetect\",\"mul_u_i\",\"mul_dered_i_nObserve\",\"div_i_dered_i\",\"mul_i_nDetect\",\"mul_g_dered_g\",\"sum_u_dered_z\",\"mul_r_dered_i\",\"sum_g_dered_g\",\"sum_u_g\",\"mul_dered_u_dered_i\",\"sum_g_nDetect\",\"mul_z_nObserve\",\"mul_g_nDetect\",\"mul_dered_i_nDetect\",\"sum_dered_g_dered_i\",\"mul_u_dered_i\",\"div_dered_z_nDetect\",\"i\",\"sum_g_z\",\"sum_u_dered_u\",\"sum_g_r\",\"sum_dered\",\"mul_u_nDetect\",\"mul_i_dered_i\",\"mul_dered_g_nObserve\",\"div_dered_g_nDetect\",\"div_u_i\"]\n",
    "trn=trn[trn.columns.difference(PI30_4)]\n",
    "PI30_5=[\"asinh_mr\",\"div_dered_r_nDetect\",\"mul_z_dered_r\",\"mul_g_nObserve\",\"diff_u_nDetect\",\"sum_g_dered_u\",\"sum_redshift_dered_i\",\"div_i_nObserve\",\"div_g_nObserve\",\"z\",\"mul_dered_z_nObserve\",\"sum_dered_r_nObserve\",\"sum_z_dered_r\",\"sum_u_dered_i\",\"mul_u_dered_g\",\"mul_dered_u_dered_r\",\"diff_z_nDetect\",\"sum_r_dered_r\",\"sum_dered_u_dered_g\",\"asinh_mi\",\"diff_i_redshift\",\"diff_r_nObserve\",\"mul_i_nObserve\",\"diff_dered_r_nObserve\",\"sum_i_dered_i\",\"sum_r_dered_i\",\"diff_dered_r_nDetect\",\"sum_u_nObserve\",\"div_dered_u_nDetect\",\"sum_z_dered_u\"]\n",
    "trn=trn[trn.columns.difference(PI30_5)]\n",
    "PI30_6=[\"sum_dered_i_nObserve\",\"diff_nObserve_nDetect\",\"mul_dered_u_dered_z\",\"div_u_nObserve\",\"diff_u_nObserve\",\"diff_redshift_nDetect\",\"mul_u_nObserve\",\"diff_dered_g_nDetect\",\"sum_u_z\",\"max_ugriz\",\"sum_g_dered_r\",\"mul_r_nObserve\",\"div_z_nDetect\",\"max\",\"mul_dered_u_nDetect\",\"sum_i_nObserve\",\"diff_g_nDetect\",\"sum_dered_z_nDetect\",\"mul_z_nDetect\",\"mul_i_z\",\"diff_r_nDetect\",\"diff_g_nObserve\",\"div_g_dered_i\",\"mul_dered_z_nDetect\",\"mul_i_dered_u\",\"diff_dered_u_nObserve\",\"div_dered_z_nObserve\",\"mul_u_r\",\"diff_i_nObserve\",\"sum_ugriz\"]\n",
    "trn=trn[trn.columns.difference(PI30_6)]\n",
    "PI30_7=[\"dered_u\",\"mul_i_dered_g\",\"mul_r_dered_u\",\"mul_r_nDetect\",\"sum_dered_g_nObserve\",\"sum-sum\",\"diff_dered_u_dered_z\",\"diff_dered_u_nDetect\",\"mul_dered_r_dered_z\",\"sum_dered_u_nObserve\",\"diff_dered_i_nObserve\",\"diff_g_z\",\"diff_z_redshift\",\"diff_i_dered_g\",\"mul_z_dered_z\",\"min_ugriz\",\"diff_dered_z_nObserve\",\"mul_g_dered_i\",\"asinh_mu\",\"sum_dered_u_dered_r\",\"diff_u_z\",\"sum_u_nDetect\",\"std_ugriz\",\"sum_dered_r_dered_i\",\"sum_dered_z_nObserve\",\"mul_dered_u_dered_g\",\"sum_r_dered_g\",\"mul_u_dered_r\",\"max-min_ugriz\",\"diff_redshift_dered_r\"]\n",
    "trn=trn[trn.columns.difference(PI30_7)]\n",
    "PI30_8=[\"div_i_redshift\",\"sum_g_redshift\",\"div_r_dered_r\",\"mul_z_dered_g\",\"sum_redshift_nDetect\",\"diff_u_dered_u\",\"diff_i_dered_i\",\"diff_i_dered_u\",\"sum_g_dered_i\",\"diff_u_dered_i\",\"div_g_redshift\",\"sum_u_i\",\"div_z_dered_r\",\"sum_i_dered_g\",\"sum_redshift_dered_r\",\"sum_z_nObserve\",\"sum_dered_u_nDetect\",\"diff_redshift_nObserve\",\"sum_dered_u_dered_z\",\"div_g_dered_z\",\"sum_z_nDetect\",\"diff_redshift_dered_z\",\"div_dered_g_dered_i\",\"div_dered_u_nObserve\",\"mul_u_dered_u\",\"sum_r_z\",\"r\",\"max-min_dered\",\"mul_dered_g_dered_i\",\"sum_g_nObserve\"]\n",
    "trn=trn[trn.columns.difference(PI30_8)]"
   ]
  },
  {
   "cell_type": "markdown",
   "metadata": {},
   "source": [
    "# 데이터셋 분할"
   ]
  },
  {
   "cell_type": "code",
   "execution_count": 4,
   "metadata": {
    "scrolled": false
   },
   "outputs": [
    {
     "data": {
      "text/plain": [
       "(319954, 125)"
      ]
     },
     "execution_count": 4,
     "metadata": {},
     "output_type": "execute_result"
    }
   ],
   "source": [
    "trn.shape"
   ]
  },
  {
   "cell_type": "code",
   "execution_count": 5,
   "metadata": {
    "scrolled": false
   },
   "outputs": [],
   "source": [
    "ftr=trn.drop(\"class\",axis=1)\n",
    "target=trn['class']\n",
    "X_train_1,X_val_1,y_train_1,y_val_1=train_test_split(ftr,target,test_size=0.3,random_state=8282)\n",
    "evals_1=[(X_val_1,y_val_1)]"
   ]
  },
  {
   "cell_type": "code",
   "execution_count": 6,
   "metadata": {
    "scrolled": true
   },
   "outputs": [],
   "source": [
    "def get_clf_eval(y_test, y_pred):\n",
    "    confusion = confusion_matrix(y_test, y_pred)\n",
    "    accuracy = accuracy_score(y_test, y_pred)\n",
    "#    precision = precision_score(y_test, y_pred)\n",
    "#     recall = recall_score(y_test, y_pred)\n",
    "#     F1 = f1_score(y_test, y_pred)\n",
    "#     AUC = roc_auc_score(y_test, y_pred)\n",
    "    \n",
    "    print('오차행렬:\\n', confusion)\n",
    "    print('\\n정확도: {:.4f}'.format(accuracy))\n",
    "#     print('정밀도: {:.4f}'.format(precision))\n",
    "#     print('재현율: {:.4f}'.format(recall))\n",
    "#     print('F1: {:.4f}'.format(F1))\n",
    "#     print('AUC: {:.4f}'.format(AUC))"
   ]
  },
  {
   "cell_type": "markdown",
   "metadata": {},
   "source": [
    "# lgbm"
   ]
  },
  {
   "cell_type": "code",
   "execution_count": 7,
   "metadata": {
    "scrolled": false
   },
   "outputs": [],
   "source": [
    "lgbm_clf=LGBMClassifier(\n",
    "        n_estimators = 500,\n",
    "        boosting_type ='dart',\n",
    "        learning_rate =0.1,\n",
    "        num_leaves = 95,\n",
    "        max_depth = 28,\n",
    "        objective='multiclass',\n",
    "        num_class=3\n",
    "        )"
   ]
  },
  {
   "cell_type": "code",
   "execution_count": 300,
   "metadata": {
    "scrolled": true
   },
   "outputs": [
    {
     "name": "stdout",
     "output_type": "stream",
     "text": [
      "[1]\tvalid_0's multi_error: 0.136956\tvalid_0's multi_logloss: 0.839609\n",
      "[2]\tvalid_0's multi_error: 0.134925\tvalid_0's multi_logloss: 0.729963\n",
      "[3]\tvalid_0's multi_error: 0.134602\tvalid_0's multi_logloss: 0.642837\n",
      "[4]\tvalid_0's multi_error: 0.0904393\tvalid_0's multi_logloss: 0.572077\n",
      "[5]\tvalid_0's multi_error: 0.0828029\tvalid_0's multi_logloss: 0.513769\n",
      "[6]\tvalid_0's multi_error: 0.0778543\tvalid_0's multi_logloss: 0.465094\n",
      "[7]\tvalid_0's multi_error: 0.0753852\tvalid_0's multi_logloss: 0.424194\n",
      "[8]\tvalid_0's multi_error: 0.0770208\tvalid_0's multi_logloss: 0.443262\n",
      "[9]\tvalid_0's multi_error: 0.0747393\tvalid_0's multi_logloss: 0.405629\n",
      "[10]\tvalid_0's multi_error: 0.0728536\tvalid_0's multi_logloss: 0.373602\n",
      "[11]\tvalid_0's multi_error: 0.0713326\tvalid_0's multi_logloss: 0.346145\n",
      "[12]\tvalid_0's multi_error: 0.072166\tvalid_0's multi_logloss: 0.356575\n",
      "[13]\tvalid_0's multi_error: 0.0706346\tvalid_0's multi_logloss: 0.33155\n",
      "[14]\tvalid_0's multi_error: 0.0699053\tvalid_0's multi_logloss: 0.310035\n",
      "[15]\tvalid_0's multi_error: 0.0695511\tvalid_0's multi_logloss: 0.291468\n",
      "[16]\tvalid_0's multi_error: 0.0687906\tvalid_0's multi_logloss: 0.275349\n",
      "[17]\tvalid_0's multi_error: 0.0682592\tvalid_0's multi_logloss: 0.261314\n",
      "[18]\tvalid_0's multi_error: 0.06778\tvalid_0's multi_logloss: 0.248969\n",
      "[19]\tvalid_0's multi_error: 0.0672695\tvalid_0's multi_logloss: 0.238272\n",
      "[20]\tvalid_0's multi_error: 0.0668632\tvalid_0's multi_logloss: 0.228856\n",
      "[21]\tvalid_0's multi_error: 0.0670195\tvalid_0's multi_logloss: 0.231721\n",
      "[22]\tvalid_0's multi_error: 0.0669987\tvalid_0's multi_logloss: 0.223195\n",
      "[23]\tvalid_0's multi_error: 0.0667382\tvalid_0's multi_logloss: 0.215644\n",
      "[24]\tvalid_0's multi_error: 0.0666444\tvalid_0's multi_logloss: 0.208984\n",
      "[25]\tvalid_0's multi_error: 0.0662902\tvalid_0's multi_logloss: 0.203151\n",
      "[26]\tvalid_0's multi_error: 0.0661652\tvalid_0's multi_logloss: 0.197982\n",
      "[27]\tvalid_0's multi_error: 0.0659464\tvalid_0's multi_logloss: 0.193508\n",
      "[28]\tvalid_0's multi_error: 0.0659256\tvalid_0's multi_logloss: 0.19521\n",
      "[29]\tvalid_0's multi_error: 0.0658735\tvalid_0's multi_logloss: 0.190999\n",
      "[30]\tvalid_0's multi_error: 0.0657381\tvalid_0's multi_logloss: 0.187253\n",
      "[31]\tvalid_0's multi_error: 0.0657485\tvalid_0's multi_logloss: 0.187562\n",
      "[32]\tvalid_0's multi_error: 0.0657902\tvalid_0's multi_logloss: 0.18411\n",
      "[33]\tvalid_0's multi_error: 0.0656964\tvalid_0's multi_logloss: 0.181141\n",
      "[34]\tvalid_0's multi_error: 0.0656443\tvalid_0's multi_logloss: 0.178474\n",
      "[35]\tvalid_0's multi_error: 0.0656131\tvalid_0's multi_logloss: 0.179816\n",
      "[36]\tvalid_0's multi_error: 0.0656339\tvalid_0's multi_logloss: 0.182154\n",
      "[37]\tvalid_0's multi_error: 0.0655089\tvalid_0's multi_logloss: 0.179374\n",
      "[38]\tvalid_0's multi_error: 0.0654464\tvalid_0's multi_logloss: 0.176942\n",
      "[39]\tvalid_0's multi_error: 0.0655401\tvalid_0's multi_logloss: 0.174732\n",
      "[40]\tvalid_0's multi_error: 0.065363\tvalid_0's multi_logloss: 0.174271\n",
      "[41]\tvalid_0's multi_error: 0.0653734\tvalid_0's multi_logloss: 0.1756\n",
      "[42]\tvalid_0's multi_error: 0.0653943\tvalid_0's multi_logloss: 0.173509\n",
      "[43]\tvalid_0's multi_error: 0.0654359\tvalid_0's multi_logloss: 0.174668\n",
      "[44]\tvalid_0's multi_error: 0.0653318\tvalid_0's multi_logloss: 0.172689\n",
      "[45]\tvalid_0's multi_error: 0.0652172\tvalid_0's multi_logloss: 0.17086\n",
      "[46]\tvalid_0's multi_error: 0.0650713\tvalid_0's multi_logloss: 0.172784\n",
      "[47]\tvalid_0's multi_error: 0.0652588\tvalid_0's multi_logloss: 0.170976\n",
      "[48]\tvalid_0's multi_error: 0.0651963\tvalid_0's multi_logloss: 0.170828\n",
      "[49]\tvalid_0's multi_error: 0.0652588\tvalid_0's multi_logloss: 0.172003\n",
      "[50]\tvalid_0's multi_error: 0.0653213\tvalid_0's multi_logloss: 0.173347\n",
      "[51]\tvalid_0's multi_error: 0.0651547\tvalid_0's multi_logloss: 0.171468\n",
      "[52]\tvalid_0's multi_error: 0.0649255\tvalid_0's multi_logloss: 0.169823\n",
      "[53]\tvalid_0's multi_error: 0.0648838\tvalid_0's multi_logloss: 0.170721\n",
      "[54]\tvalid_0's multi_error: 0.0647692\tvalid_0's multi_logloss: 0.169115\n",
      "[55]\tvalid_0's multi_error: 0.0648109\tvalid_0's multi_logloss: 0.167675\n",
      "[56]\tvalid_0's multi_error: 0.0648421\tvalid_0's multi_logloss: 0.168806\n",
      "[57]\tvalid_0's multi_error: 0.0648942\tvalid_0's multi_logloss: 0.167403\n",
      "[58]\tvalid_0's multi_error: 0.0650713\tvalid_0's multi_logloss: 0.169167\n",
      "[59]\tvalid_0's multi_error: 0.064863\tvalid_0's multi_logloss: 0.170396\n",
      "[60]\tvalid_0's multi_error: 0.0647692\tvalid_0's multi_logloss: 0.168696\n",
      "[61]\tvalid_0's multi_error: 0.0652276\tvalid_0's multi_logloss: 0.170777\n",
      "[62]\tvalid_0's multi_error: 0.0650713\tvalid_0's multi_logloss: 0.168949\n",
      "[63]\tvalid_0's multi_error: 0.0648734\tvalid_0's multi_logloss: 0.167368\n",
      "[64]\tvalid_0's multi_error: 0.0648942\tvalid_0's multi_logloss: 0.168195\n",
      "[65]\tvalid_0's multi_error: 0.0648317\tvalid_0's multi_logloss: 0.16899\n",
      "[66]\tvalid_0's multi_error: 0.0648109\tvalid_0's multi_logloss: 0.167405\n",
      "[67]\tvalid_0's multi_error: 0.064988\tvalid_0's multi_logloss: 0.165994\n",
      "[68]\tvalid_0's multi_error: 0.0648213\tvalid_0's multi_logloss: 0.164681\n",
      "[69]\tvalid_0's multi_error: 0.0648213\tvalid_0's multi_logloss: 0.165376\n",
      "[70]\tvalid_0's multi_error: 0.0647692\tvalid_0's multi_logloss: 0.165777\n",
      "[71]\tvalid_0's multi_error: 0.0648317\tvalid_0's multi_logloss: 0.166376\n",
      "[72]\tvalid_0's multi_error: 0.0646754\tvalid_0's multi_logloss: 0.165053\n",
      "[73]\tvalid_0's multi_error: 0.0646963\tvalid_0's multi_logloss: 0.163968\n",
      "[74]\tvalid_0's multi_error: 0.0647588\tvalid_0's multi_logloss: 0.164468\n",
      "[75]\tvalid_0's multi_error: 0.0647067\tvalid_0's multi_logloss: 0.16343\n",
      "[76]\tvalid_0's multi_error: 0.0647067\tvalid_0's multi_logloss: 0.16352\n",
      "[77]\tvalid_0's multi_error: 0.0647692\tvalid_0's multi_logloss: 0.16396\n",
      "[78]\tvalid_0's multi_error: 0.0647588\tvalid_0's multi_logloss: 0.164533\n",
      "[79]\tvalid_0's multi_error: 0.0647275\tvalid_0's multi_logloss: 0.163487\n",
      "[80]\tvalid_0's multi_error: 0.0648213\tvalid_0's multi_logloss: 0.162583\n",
      "[81]\tvalid_0's multi_error: 0.06479\tvalid_0's multi_logloss: 0.163075\n",
      "[82]\tvalid_0's multi_error: 0.0647588\tvalid_0's multi_logloss: 0.162202\n",
      "[83]\tvalid_0's multi_error: 0.0647796\tvalid_0's multi_logloss: 0.16278\n",
      "[84]\tvalid_0's multi_error: 0.064863\tvalid_0's multi_logloss: 0.163323\n",
      "[85]\tvalid_0's multi_error: 0.0649046\tvalid_0's multi_logloss: 0.163923\n",
      "[86]\tvalid_0's multi_error: 0.0648213\tvalid_0's multi_logloss: 0.162881\n",
      "[87]\tvalid_0's multi_error: 0.0647796\tvalid_0's multi_logloss: 0.161987\n",
      "[88]\tvalid_0's multi_error: 0.0647692\tvalid_0's multi_logloss: 0.162623\n",
      "[89]\tvalid_0's multi_error: 0.0646963\tvalid_0's multi_logloss: 0.163095\n",
      "[90]\tvalid_0's multi_error: 0.0647379\tvalid_0's multi_logloss: 0.163668\n",
      "[91]\tvalid_0's multi_error: 0.0646233\tvalid_0's multi_logloss: 0.164737\n",
      "[92]\tvalid_0's multi_error: 0.0648213\tvalid_0's multi_logloss: 0.163605\n",
      "[93]\tvalid_0's multi_error: 0.0647692\tvalid_0's multi_logloss: 0.162648\n",
      "[94]\tvalid_0's multi_error: 0.0646858\tvalid_0's multi_logloss: 0.163146\n",
      "[95]\tvalid_0's multi_error: 0.0646754\tvalid_0's multi_logloss: 0.163613\n",
      "[96]\tvalid_0's multi_error: 0.0646754\tvalid_0's multi_logloss: 0.164081\n",
      "[97]\tvalid_0's multi_error: 0.064665\tvalid_0's multi_logloss: 0.163058\n",
      "[98]\tvalid_0's multi_error: 0.0645921\tvalid_0's multi_logloss: 0.16358\n",
      "[99]\tvalid_0's multi_error: 0.0647171\tvalid_0's multi_logloss: 0.162535\n",
      "[100]\tvalid_0's multi_error: 0.0647275\tvalid_0's multi_logloss: 0.161634\n",
      "[101]\tvalid_0's multi_error: 0.0647379\tvalid_0's multi_logloss: 0.162479\n",
      "[102]\tvalid_0's multi_error: 0.0648004\tvalid_0's multi_logloss: 0.162935\n",
      "[103]\tvalid_0's multi_error: 0.0648421\tvalid_0's multi_logloss: 0.163475\n",
      "[104]\tvalid_0's multi_error: 0.0648421\tvalid_0's multi_logloss: 0.162443\n",
      "[105]\tvalid_0's multi_error: 0.06479\tvalid_0's multi_logloss: 0.163323\n",
      "[106]\tvalid_0's multi_error: 0.0648317\tvalid_0's multi_logloss: 0.163884\n",
      "[107]\tvalid_0's multi_error: 0.0648421\tvalid_0's multi_logloss: 0.164507\n",
      "[108]\tvalid_0's multi_error: 0.0646858\tvalid_0's multi_logloss: 0.163281\n",
      "[109]\tvalid_0's multi_error: 0.0646338\tvalid_0's multi_logloss: 0.163755\n",
      "[110]\tvalid_0's multi_error: 0.0646442\tvalid_0's multi_logloss: 0.164309\n",
      "[111]\tvalid_0's multi_error: 0.0646025\tvalid_0's multi_logloss: 0.1632\n",
      "[112]\tvalid_0's multi_error: 0.0645296\tvalid_0's multi_logloss: 0.162197\n",
      "[113]\tvalid_0's multi_error: 0.0643733\tvalid_0's multi_logloss: 0.16131\n",
      "[114]\tvalid_0's multi_error: 0.0643316\tvalid_0's multi_logloss: 0.160537\n",
      "[115]\tvalid_0's multi_error: 0.0644775\tvalid_0's multi_logloss: 0.159858\n",
      "[116]\tvalid_0's multi_error: 0.0643733\tvalid_0's multi_logloss: 0.159142\n",
      "[117]\tvalid_0's multi_error: 0.0645192\tvalid_0's multi_logloss: 0.159427\n",
      "[118]\tvalid_0's multi_error: 0.0646546\tvalid_0's multi_logloss: 0.158859\n",
      "[119]\tvalid_0's multi_error: 0.0646338\tvalid_0's multi_logloss: 0.159151\n",
      "[120]\tvalid_0's multi_error: 0.064665\tvalid_0's multi_logloss: 0.159512\n",
      "[121]\tvalid_0's multi_error: 0.0646754\tvalid_0's multi_logloss: 0.159875\n",
      "[122]\tvalid_0's multi_error: 0.064665\tvalid_0's multi_logloss: 0.160291\n",
      "[123]\tvalid_0's multi_error: 0.0645192\tvalid_0's multi_logloss: 0.159597\n",
      "[124]\tvalid_0's multi_error: 0.0644046\tvalid_0's multi_logloss: 0.15898\n",
      "[125]\tvalid_0's multi_error: 0.0643629\tvalid_0's multi_logloss: 0.159312\n",
      "[126]\tvalid_0's multi_error: 0.0644046\tvalid_0's multi_logloss: 0.159631\n",
      "[127]\tvalid_0's multi_error: 0.064342\tvalid_0's multi_logloss: 0.159007\n",
      "[128]\tvalid_0's multi_error: 0.064342\tvalid_0's multi_logloss: 0.159321\n",
      "[129]\tvalid_0's multi_error: 0.0643108\tvalid_0's multi_logloss: 0.158717\n",
      "[130]\tvalid_0's multi_error: 0.064217\tvalid_0's multi_logloss: 0.15821\n",
      "[131]\tvalid_0's multi_error: 0.064217\tvalid_0's multi_logloss: 0.158441\n",
      "[132]\tvalid_0's multi_error: 0.0643108\tvalid_0's multi_logloss: 0.157946\n",
      "[133]\tvalid_0's multi_error: 0.0643525\tvalid_0's multi_logloss: 0.157461\n",
      "[134]\tvalid_0's multi_error: 0.06429\tvalid_0's multi_logloss: 0.15783\n",
      "[135]\tvalid_0's multi_error: 0.06429\tvalid_0's multi_logloss: 0.157359\n",
      "[136]\tvalid_0's multi_error: 0.0642795\tvalid_0's multi_logloss: 0.157884\n",
      "[137]\tvalid_0's multi_error: 0.06429\tvalid_0's multi_logloss: 0.158159\n",
      "[138]\tvalid_0's multi_error: 0.0643316\tvalid_0's multi_logloss: 0.157637\n",
      "[139]\tvalid_0's multi_error: 0.0643837\tvalid_0's multi_logloss: 0.15716\n",
      "[140]\tvalid_0's multi_error: 0.0643108\tvalid_0's multi_logloss: 0.15744\n",
      "[141]\tvalid_0's multi_error: 0.0643316\tvalid_0's multi_logloss: 0.157693\n",
      "[142]\tvalid_0's multi_error: 0.0642795\tvalid_0's multi_logloss: 0.157951\n",
      "[143]\tvalid_0's multi_error: 0.0643733\tvalid_0's multi_logloss: 0.157431\n",
      "[144]\tvalid_0's multi_error: 0.064342\tvalid_0's multi_logloss: 0.157651\n",
      "[145]\tvalid_0's multi_error: 0.0643316\tvalid_0's multi_logloss: 0.15718\n",
      "[146]\tvalid_0's multi_error: 0.06429\tvalid_0's multi_logloss: 0.157481\n",
      "[147]\tvalid_0's multi_error: 0.0643525\tvalid_0's multi_logloss: 0.157753\n",
      "[148]\tvalid_0's multi_error: 0.06429\tvalid_0's multi_logloss: 0.158059\n",
      "[149]\tvalid_0's multi_error: 0.06429\tvalid_0's multi_logloss: 0.157518\n",
      "[150]\tvalid_0's multi_error: 0.0642274\tvalid_0's multi_logloss: 0.157044\n",
      "[151]\tvalid_0's multi_error: 0.0641233\tvalid_0's multi_logloss: 0.157423\n",
      "[152]\tvalid_0's multi_error: 0.06429\tvalid_0's multi_logloss: 0.157832\n",
      "[153]\tvalid_0's multi_error: 0.064217\tvalid_0's multi_logloss: 0.15733\n",
      "[154]\tvalid_0's multi_error: 0.0642691\tvalid_0's multi_logloss: 0.157546\n",
      "[155]\tvalid_0's multi_error: 0.0643108\tvalid_0's multi_logloss: 0.157093\n",
      "[156]\tvalid_0's multi_error: 0.0643004\tvalid_0's multi_logloss: 0.157357\n",
      "[157]\tvalid_0's multi_error: 0.0642691\tvalid_0's multi_logloss: 0.157504\n",
      "[158]\tvalid_0's multi_error: 0.0642483\tvalid_0's multi_logloss: 0.157776\n",
      "[159]\tvalid_0's multi_error: 0.0643108\tvalid_0's multi_logloss: 0.158058\n",
      "[160]\tvalid_0's multi_error: 0.0642691\tvalid_0's multi_logloss: 0.15835\n",
      "[161]\tvalid_0's multi_error: 0.064342\tvalid_0's multi_logloss: 0.157776\n",
      "[162]\tvalid_0's multi_error: 0.0643212\tvalid_0's multi_logloss: 0.158012\n",
      "[163]\tvalid_0's multi_error: 0.0642274\tvalid_0's multi_logloss: 0.157486\n",
      "[164]\tvalid_0's multi_error: 0.0641337\tvalid_0's multi_logloss: 0.157008\n",
      "[165]\tvalid_0's multi_error: 0.0640608\tvalid_0's multi_logloss: 0.156549\n",
      "[166]\tvalid_0's multi_error: 0.0640816\tvalid_0's multi_logloss: 0.15617\n",
      "[167]\tvalid_0's multi_error: 0.0638941\tvalid_0's multi_logloss: 0.155829\n",
      "[168]\tvalid_0's multi_error: 0.0639357\tvalid_0's multi_logloss: 0.155537\n",
      "[169]\tvalid_0's multi_error: 0.0639982\tvalid_0's multi_logloss: 0.155281\n",
      "[170]\tvalid_0's multi_error: 0.0639149\tvalid_0's multi_logloss: 0.155496\n",
      "[171]\tvalid_0's multi_error: 0.0639878\tvalid_0's multi_logloss: 0.155206\n",
      "[172]\tvalid_0's multi_error: 0.0639566\tvalid_0's multi_logloss: 0.155424\n",
      "[173]\tvalid_0's multi_error: 0.0638316\tvalid_0's multi_logloss: 0.155183\n",
      "[174]\tvalid_0's multi_error: 0.0639982\tvalid_0's multi_logloss: 0.154992\n",
      "[175]\tvalid_0's multi_error: 0.0639149\tvalid_0's multi_logloss: 0.154789\n",
      "[176]\tvalid_0's multi_error: 0.0639045\tvalid_0's multi_logloss: 0.154902\n",
      "[177]\tvalid_0's multi_error: 0.0638941\tvalid_0's multi_logloss: 0.155045\n",
      "[178]\tvalid_0's multi_error: 0.063967\tvalid_0's multi_logloss: 0.155193\n",
      "[179]\tvalid_0's multi_error: 0.0639253\tvalid_0's multi_logloss: 0.154937\n",
      "[180]\tvalid_0's multi_error: 0.0638941\tvalid_0's multi_logloss: 0.155069\n",
      "[181]\tvalid_0's multi_error: 0.0636649\tvalid_0's multi_logloss: 0.154865\n",
      "[182]\tvalid_0's multi_error: 0.063644\tvalid_0's multi_logloss: 0.154668\n",
      "[183]\tvalid_0's multi_error: 0.0635503\tvalid_0's multi_logloss: 0.154517\n",
      "[184]\tvalid_0's multi_error: 0.0636024\tvalid_0's multi_logloss: 0.154315\n",
      "[185]\tvalid_0's multi_error: 0.0635399\tvalid_0's multi_logloss: 0.15444\n",
      "[186]\tvalid_0's multi_error: 0.063519\tvalid_0's multi_logloss: 0.154233\n",
      "[187]\tvalid_0's multi_error: 0.0635399\tvalid_0's multi_logloss: 0.154076\n",
      "[188]\tvalid_0's multi_error: 0.0635086\tvalid_0's multi_logloss: 0.153948\n",
      "[189]\tvalid_0's multi_error: 0.0634669\tvalid_0's multi_logloss: 0.154053\n",
      "[190]\tvalid_0's multi_error: 0.0635086\tvalid_0's multi_logloss: 0.154158\n",
      "[191]\tvalid_0's multi_error: 0.0635607\tvalid_0's multi_logloss: 0.154076\n",
      "[192]\tvalid_0's multi_error: 0.0636024\tvalid_0's multi_logloss: 0.15397\n",
      "[193]\tvalid_0's multi_error: 0.0635815\tvalid_0's multi_logloss: 0.153859\n",
      "[194]\tvalid_0's multi_error: 0.0635711\tvalid_0's multi_logloss: 0.153943\n",
      "[195]\tvalid_0's multi_error: 0.0636232\tvalid_0's multi_logloss: 0.15402\n",
      "[196]\tvalid_0's multi_error: 0.0635711\tvalid_0's multi_logloss: 0.153916\n",
      "[197]\tvalid_0's multi_error: 0.0636128\tvalid_0's multi_logloss: 0.153979\n",
      "[198]\tvalid_0's multi_error: 0.0636024\tvalid_0's multi_logloss: 0.154062\n",
      "[199]\tvalid_0's multi_error: 0.0636128\tvalid_0's multi_logloss: 0.153948\n",
      "[200]\tvalid_0's multi_error: 0.0635815\tvalid_0's multi_logloss: 0.154054\n",
      "[201]\tvalid_0's multi_error: 0.0635711\tvalid_0's multi_logloss: 0.154146\n",
      "[202]\tvalid_0's multi_error: 0.0635399\tvalid_0's multi_logloss: 0.154253\n",
      "[203]\tvalid_0's multi_error: 0.0635607\tvalid_0's multi_logloss: 0.154087\n",
      "[204]\tvalid_0's multi_error: 0.0635919\tvalid_0's multi_logloss: 0.154174\n",
      "[205]\tvalid_0's multi_error: 0.0634253\tvalid_0's multi_logloss: 0.154326\n",
      "[206]\tvalid_0's multi_error: 0.063519\tvalid_0's multi_logloss: 0.154155\n",
      "[207]\tvalid_0's multi_error: 0.063519\tvalid_0's multi_logloss: 0.154252\n",
      "[208]\tvalid_0's multi_error: 0.0635607\tvalid_0's multi_logloss: 0.154115\n",
      "[209]\tvalid_0's multi_error: 0.0635711\tvalid_0's multi_logloss: 0.154218\n",
      "[210]\tvalid_0's multi_error: 0.0635503\tvalid_0's multi_logloss: 0.154324\n",
      "[211]\tvalid_0's multi_error: 0.0635086\tvalid_0's multi_logloss: 0.154425\n",
      "[212]\tvalid_0's multi_error: 0.0635294\tvalid_0's multi_logloss: 0.154287\n",
      "[213]\tvalid_0's multi_error: 0.0636128\tvalid_0's multi_logloss: 0.154124\n",
      "[214]\tvalid_0's multi_error: 0.0636128\tvalid_0's multi_logloss: 0.154007\n",
      "[215]\tvalid_0's multi_error: 0.0636128\tvalid_0's multi_logloss: 0.153871\n",
      "[216]\tvalid_0's multi_error: 0.0635399\tvalid_0's multi_logloss: 0.153959\n",
      "[217]\tvalid_0's multi_error: 0.0636128\tvalid_0's multi_logloss: 0.153847\n",
      "[218]\tvalid_0's multi_error: 0.0636232\tvalid_0's multi_logloss: 0.153727\n",
      "[219]\tvalid_0's multi_error: 0.0637274\tvalid_0's multi_logloss: 0.153832\n",
      "[220]\tvalid_0's multi_error: 0.0635711\tvalid_0's multi_logloss: 0.153736\n",
      "[221]\tvalid_0's multi_error: 0.0636232\tvalid_0's multi_logloss: 0.153812\n",
      "[222]\tvalid_0's multi_error: 0.0635919\tvalid_0's multi_logloss: 0.1537\n",
      "[223]\tvalid_0's multi_error: 0.0636545\tvalid_0's multi_logloss: 0.153645\n",
      "[224]\tvalid_0's multi_error: 0.0636128\tvalid_0's multi_logloss: 0.153722\n",
      "[225]\tvalid_0's multi_error: 0.0636232\tvalid_0's multi_logloss: 0.153806\n",
      "[226]\tvalid_0's multi_error: 0.0635711\tvalid_0's multi_logloss: 0.153877\n"
     ]
    },
    {
     "name": "stdout",
     "output_type": "stream",
     "text": [
      "[227]\tvalid_0's multi_error: 0.0635919\tvalid_0's multi_logloss: 0.15394\n",
      "[228]\tvalid_0's multi_error: 0.0637274\tvalid_0's multi_logloss: 0.153799\n",
      "[229]\tvalid_0's multi_error: 0.063717\tvalid_0's multi_logloss: 0.153875\n",
      "[230]\tvalid_0's multi_error: 0.0637795\tvalid_0's multi_logloss: 0.153775\n",
      "[231]\tvalid_0's multi_error: 0.0637065\tvalid_0's multi_logloss: 0.153638\n",
      "[232]\tvalid_0's multi_error: 0.0636649\tvalid_0's multi_logloss: 0.153509\n",
      "[233]\tvalid_0's multi_error: 0.0636649\tvalid_0's multi_logloss: 0.15357\n",
      "[234]\tvalid_0's multi_error: 0.0635815\tvalid_0's multi_logloss: 0.153471\n",
      "[235]\tvalid_0's multi_error: 0.0636024\tvalid_0's multi_logloss: 0.153534\n",
      "[236]\tvalid_0's multi_error: 0.0636128\tvalid_0's multi_logloss: 0.153445\n",
      "[237]\tvalid_0's multi_error: 0.0635086\tvalid_0's multi_logloss: 0.153379\n",
      "[238]\tvalid_0's multi_error: 0.0636545\tvalid_0's multi_logloss: 0.153306\n",
      "[239]\tvalid_0's multi_error: 0.0636232\tvalid_0's multi_logloss: 0.153184\n",
      "[240]\tvalid_0's multi_error: 0.0637274\tvalid_0's multi_logloss: 0.153106\n",
      "[241]\tvalid_0's multi_error: 0.0637065\tvalid_0's multi_logloss: 0.153159\n",
      "[242]\tvalid_0's multi_error: 0.063717\tvalid_0's multi_logloss: 0.153098\n",
      "[243]\tvalid_0's multi_error: 0.0636961\tvalid_0's multi_logloss: 0.153144\n",
      "[244]\tvalid_0's multi_error: 0.0637795\tvalid_0's multi_logloss: 0.153215\n",
      "[245]\tvalid_0's multi_error: 0.0637482\tvalid_0's multi_logloss: 0.153138\n",
      "[246]\tvalid_0's multi_error: 0.0637795\tvalid_0's multi_logloss: 0.153096\n",
      "[247]\tvalid_0's multi_error: 0.0636649\tvalid_0's multi_logloss: 0.153021\n",
      "[248]\tvalid_0's multi_error: 0.0636649\tvalid_0's multi_logloss: 0.153065\n",
      "[249]\tvalid_0's multi_error: 0.0635919\tvalid_0's multi_logloss: 0.153114\n",
      "[250]\tvalid_0's multi_error: 0.0636336\tvalid_0's multi_logloss: 0.153065\n",
      "[251]\tvalid_0's multi_error: 0.0636024\tvalid_0's multi_logloss: 0.15311\n",
      "[252]\tvalid_0's multi_error: 0.0636336\tvalid_0's multi_logloss: 0.15316\n",
      "[253]\tvalid_0's multi_error: 0.0637482\tvalid_0's multi_logloss: 0.1531\n",
      "[254]\tvalid_0's multi_error: 0.0638837\tvalid_0's multi_logloss: 0.153083\n",
      "[255]\tvalid_0's multi_error: 0.0637691\tvalid_0's multi_logloss: 0.153077\n",
      "[256]\tvalid_0's multi_error: 0.0637482\tvalid_0's multi_logloss: 0.153053\n",
      "[257]\tvalid_0's multi_error: 0.0637378\tvalid_0's multi_logloss: 0.153022\n",
      "[258]\tvalid_0's multi_error: 0.0635919\tvalid_0's multi_logloss: 0.152992\n",
      "[259]\tvalid_0's multi_error: 0.0636232\tvalid_0's multi_logloss: 0.153025\n",
      "[260]\tvalid_0's multi_error: 0.0636232\tvalid_0's multi_logloss: 0.153059\n",
      "[261]\tvalid_0's multi_error: 0.0636649\tvalid_0's multi_logloss: 0.153099\n",
      "[262]\tvalid_0's multi_error: 0.0634773\tvalid_0's multi_logloss: 0.153058\n",
      "[263]\tvalid_0's multi_error: 0.063394\tvalid_0's multi_logloss: 0.15304\n",
      "[264]\tvalid_0's multi_error: 0.0634669\tvalid_0's multi_logloss: 0.153001\n",
      "[265]\tvalid_0's multi_error: 0.0633836\tvalid_0's multi_logloss: 0.152937\n",
      "[266]\tvalid_0's multi_error: 0.0635711\tvalid_0's multi_logloss: 0.152885\n",
      "[267]\tvalid_0's multi_error: 0.0635607\tvalid_0's multi_logloss: 0.15291\n",
      "[268]\tvalid_0's multi_error: 0.0635086\tvalid_0's multi_logloss: 0.152918\n",
      "[269]\tvalid_0's multi_error: 0.0635503\tvalid_0's multi_logloss: 0.152946\n",
      "[270]\tvalid_0's multi_error: 0.0634982\tvalid_0's multi_logloss: 0.152894\n",
      "[271]\tvalid_0's multi_error: 0.0635294\tvalid_0's multi_logloss: 0.152925\n",
      "[272]\tvalid_0's multi_error: 0.0636024\tvalid_0's multi_logloss: 0.15291\n",
      "[273]\tvalid_0's multi_error: 0.0635919\tvalid_0's multi_logloss: 0.152903\n",
      "[274]\tvalid_0's multi_error: 0.0636024\tvalid_0's multi_logloss: 0.152922\n",
      "[275]\tvalid_0's multi_error: 0.0635399\tvalid_0's multi_logloss: 0.152875\n",
      "[276]\tvalid_0's multi_error: 0.0635294\tvalid_0's multi_logloss: 0.152893\n",
      "[277]\tvalid_0's multi_error: 0.0635294\tvalid_0's multi_logloss: 0.152864\n",
      "[278]\tvalid_0's multi_error: 0.0635294\tvalid_0's multi_logloss: 0.152882\n",
      "[279]\tvalid_0's multi_error: 0.0634878\tvalid_0's multi_logloss: 0.152883\n",
      "[280]\tvalid_0's multi_error: 0.063519\tvalid_0's multi_logloss: 0.152908\n",
      "[281]\tvalid_0's multi_error: 0.0634565\tvalid_0's multi_logloss: 0.152947\n",
      "[282]\tvalid_0's multi_error: 0.0634565\tvalid_0's multi_logloss: 0.152942\n",
      "[283]\tvalid_0's multi_error: 0.0634982\tvalid_0's multi_logloss: 0.152967\n",
      "[284]\tvalid_0's multi_error: 0.0635607\tvalid_0's multi_logloss: 0.152929\n",
      "[285]\tvalid_0's multi_error: 0.0634773\tvalid_0's multi_logloss: 0.152898\n",
      "[286]\tvalid_0's multi_error: 0.0634461\tvalid_0's multi_logloss: 0.152882\n",
      "[287]\tvalid_0's multi_error: 0.0634253\tvalid_0's multi_logloss: 0.15286\n",
      "[288]\tvalid_0's multi_error: 0.0634357\tvalid_0's multi_logloss: 0.152878\n",
      "[289]\tvalid_0's multi_error: 0.0635294\tvalid_0's multi_logloss: 0.15285\n",
      "[290]\tvalid_0's multi_error: 0.0636232\tvalid_0's multi_logloss: 0.152832\n",
      "[291]\tvalid_0's multi_error: 0.0636024\tvalid_0's multi_logloss: 0.152798\n",
      "[292]\tvalid_0's multi_error: 0.0636857\tvalid_0's multi_logloss: 0.152812\n",
      "[293]\tvalid_0's multi_error: 0.0636857\tvalid_0's multi_logloss: 0.152823\n",
      "[294]\tvalid_0's multi_error: 0.0636649\tvalid_0's multi_logloss: 0.152836\n",
      "[295]\tvalid_0's multi_error: 0.0636649\tvalid_0's multi_logloss: 0.152848\n",
      "[296]\tvalid_0's multi_error: 0.0636857\tvalid_0's multi_logloss: 0.152864\n",
      "[297]\tvalid_0's multi_error: 0.0636961\tvalid_0's multi_logloss: 0.152882\n",
      "[298]\tvalid_0's multi_error: 0.0636649\tvalid_0's multi_logloss: 0.152899\n",
      "[299]\tvalid_0's multi_error: 0.0635607\tvalid_0's multi_logloss: 0.152856\n",
      "[300]\tvalid_0's multi_error: 0.0635399\tvalid_0's multi_logloss: 0.15287\n",
      "[301]\tvalid_0's multi_error: 0.0635399\tvalid_0's multi_logloss: 0.152901\n",
      "[302]\tvalid_0's multi_error: 0.0635294\tvalid_0's multi_logloss: 0.152889\n",
      "[303]\tvalid_0's multi_error: 0.0635815\tvalid_0's multi_logloss: 0.152904\n",
      "[304]\tvalid_0's multi_error: 0.0635711\tvalid_0's multi_logloss: 0.152922\n",
      "[305]\tvalid_0's multi_error: 0.0635503\tvalid_0's multi_logloss: 0.152947\n",
      "[306]\tvalid_0's multi_error: 0.0635503\tvalid_0's multi_logloss: 0.152966\n",
      "[307]\tvalid_0's multi_error: 0.0635815\tvalid_0's multi_logloss: 0.152999\n",
      "[308]\tvalid_0's multi_error: 0.0634878\tvalid_0's multi_logloss: 0.152953\n",
      "[309]\tvalid_0's multi_error: 0.063519\tvalid_0's multi_logloss: 0.152984\n",
      "[310]\tvalid_0's multi_error: 0.0633836\tvalid_0's multi_logloss: 0.152959\n",
      "[311]\tvalid_0's multi_error: 0.0633315\tvalid_0's multi_logloss: 0.152924\n",
      "[312]\tvalid_0's multi_error: 0.0632898\tvalid_0's multi_logloss: 0.152877\n",
      "[313]\tvalid_0's multi_error: 0.0633211\tvalid_0's multi_logloss: 0.152848\n",
      "[314]\tvalid_0's multi_error: 0.0633627\tvalid_0's multi_logloss: 0.152873\n",
      "[315]\tvalid_0's multi_error: 0.0633419\tvalid_0's multi_logloss: 0.152892\n",
      "[316]\tvalid_0's multi_error: 0.0633836\tvalid_0's multi_logloss: 0.152871\n",
      "[317]\tvalid_0's multi_error: 0.0632794\tvalid_0's multi_logloss: 0.152844\n",
      "[318]\tvalid_0's multi_error: 0.0633523\tvalid_0's multi_logloss: 0.15284\n",
      "[319]\tvalid_0's multi_error: 0.0632898\tvalid_0's multi_logloss: 0.152854\n",
      "[320]\tvalid_0's multi_error: 0.063394\tvalid_0's multi_logloss: 0.152855\n",
      "[321]\tvalid_0's multi_error: 0.0634253\tvalid_0's multi_logloss: 0.152862\n",
      "[322]\tvalid_0's multi_error: 0.0634044\tvalid_0's multi_logloss: 0.152882\n",
      "[323]\tvalid_0's multi_error: 0.063519\tvalid_0's multi_logloss: 0.152942\n",
      "[324]\tvalid_0's multi_error: 0.0635086\tvalid_0's multi_logloss: 0.152944\n",
      "[325]\tvalid_0's multi_error: 0.0634773\tvalid_0's multi_logloss: 0.152956\n",
      "[326]\tvalid_0's multi_error: 0.0634044\tvalid_0's multi_logloss: 0.152962\n",
      "[327]\tvalid_0's multi_error: 0.0634565\tvalid_0's multi_logloss: 0.152949\n",
      "[328]\tvalid_0's multi_error: 0.0634461\tvalid_0's multi_logloss: 0.152959\n",
      "[329]\tvalid_0's multi_error: 0.0634148\tvalid_0's multi_logloss: 0.152954\n",
      "[330]\tvalid_0's multi_error: 0.0634357\tvalid_0's multi_logloss: 0.152962\n",
      "[331]\tvalid_0's multi_error: 0.0634773\tvalid_0's multi_logloss: 0.152972\n",
      "[332]\tvalid_0's multi_error: 0.0634357\tvalid_0's multi_logloss: 0.152999\n",
      "[333]\tvalid_0's multi_error: 0.0634669\tvalid_0's multi_logloss: 0.153013\n",
      "[334]\tvalid_0's multi_error: 0.0634669\tvalid_0's multi_logloss: 0.153031\n",
      "[335]\tvalid_0's multi_error: 0.0633211\tvalid_0's multi_logloss: 0.153005\n",
      "[336]\tvalid_0's multi_error: 0.0633211\tvalid_0's multi_logloss: 0.153018\n",
      "[337]\tvalid_0's multi_error: 0.0635399\tvalid_0's multi_logloss: 0.152991\n",
      "[338]\tvalid_0's multi_error: 0.0634565\tvalid_0's multi_logloss: 0.152976\n",
      "[339]\tvalid_0's multi_error: 0.0634669\tvalid_0's multi_logloss: 0.15299\n",
      "[340]\tvalid_0's multi_error: 0.0634773\tvalid_0's multi_logloss: 0.153007\n",
      "[341]\tvalid_0's multi_error: 0.0634669\tvalid_0's multi_logloss: 0.15297\n",
      "[342]\tvalid_0's multi_error: 0.0634148\tvalid_0's multi_logloss: 0.152919\n",
      "[343]\tvalid_0's multi_error: 0.0633732\tvalid_0's multi_logloss: 0.152845\n",
      "[344]\tvalid_0's multi_error: 0.0633523\tvalid_0's multi_logloss: 0.152857\n",
      "[345]\tvalid_0's multi_error: 0.0634253\tvalid_0's multi_logloss: 0.152844\n",
      "[346]\tvalid_0's multi_error: 0.0634044\tvalid_0's multi_logloss: 0.152813\n",
      "[347]\tvalid_0's multi_error: 0.0633419\tvalid_0's multi_logloss: 0.152822\n",
      "[348]\tvalid_0's multi_error: 0.0634253\tvalid_0's multi_logloss: 0.152806\n",
      "[349]\tvalid_0's multi_error: 0.0635086\tvalid_0's multi_logloss: 0.152833\n",
      "[350]\tvalid_0's multi_error: 0.0634982\tvalid_0's multi_logloss: 0.152835\n",
      "[351]\tvalid_0's multi_error: 0.0634773\tvalid_0's multi_logloss: 0.152801\n",
      "[352]\tvalid_0's multi_error: 0.0633627\tvalid_0's multi_logloss: 0.152751\n",
      "[353]\tvalid_0's multi_error: 0.063394\tvalid_0's multi_logloss: 0.15273\n",
      "[354]\tvalid_0's multi_error: 0.0634148\tvalid_0's multi_logloss: 0.152734\n",
      "[355]\tvalid_0's multi_error: 0.0634044\tvalid_0's multi_logloss: 0.152733\n",
      "[356]\tvalid_0's multi_error: 0.0634357\tvalid_0's multi_logloss: 0.152785\n",
      "[357]\tvalid_0's multi_error: 0.0634982\tvalid_0's multi_logloss: 0.152791\n",
      "[358]\tvalid_0's multi_error: 0.063394\tvalid_0's multi_logloss: 0.152794\n",
      "[359]\tvalid_0's multi_error: 0.0634044\tvalid_0's multi_logloss: 0.152808\n",
      "[360]\tvalid_0's multi_error: 0.0633002\tvalid_0's multi_logloss: 0.152804\n",
      "[361]\tvalid_0's multi_error: 0.0634565\tvalid_0's multi_logloss: 0.152834\n",
      "[362]\tvalid_0's multi_error: 0.0635919\tvalid_0's multi_logloss: 0.152852\n",
      "[363]\tvalid_0's multi_error: 0.0636024\tvalid_0's multi_logloss: 0.152854\n",
      "[364]\tvalid_0's multi_error: 0.0635399\tvalid_0's multi_logloss: 0.152854\n",
      "[365]\tvalid_0's multi_error: 0.0635607\tvalid_0's multi_logloss: 0.152854\n",
      "[366]\tvalid_0's multi_error: 0.0635086\tvalid_0's multi_logloss: 0.152857\n",
      "[367]\tvalid_0's multi_error: 0.063519\tvalid_0's multi_logloss: 0.152855\n",
      "[368]\tvalid_0's multi_error: 0.0636857\tvalid_0's multi_logloss: 0.152876\n",
      "[369]\tvalid_0's multi_error: 0.0636857\tvalid_0's multi_logloss: 0.152882\n",
      "[370]\tvalid_0's multi_error: 0.063644\tvalid_0's multi_logloss: 0.15289\n",
      "[371]\tvalid_0's multi_error: 0.0636024\tvalid_0's multi_logloss: 0.152896\n",
      "[372]\tvalid_0's multi_error: 0.0636232\tvalid_0's multi_logloss: 0.152921\n",
      "[373]\tvalid_0's multi_error: 0.0635399\tvalid_0's multi_logloss: 0.152947\n",
      "[374]\tvalid_0's multi_error: 0.0635086\tvalid_0's multi_logloss: 0.152938\n",
      "[375]\tvalid_0's multi_error: 0.0636336\tvalid_0's multi_logloss: 0.152939\n",
      "[376]\tvalid_0's multi_error: 0.0636024\tvalid_0's multi_logloss: 0.152936\n",
      "[377]\tvalid_0's multi_error: 0.0635711\tvalid_0's multi_logloss: 0.152983\n",
      "[378]\tvalid_0's multi_error: 0.0635294\tvalid_0's multi_logloss: 0.152977\n",
      "[379]\tvalid_0's multi_error: 0.063519\tvalid_0's multi_logloss: 0.15298\n",
      "[380]\tvalid_0's multi_error: 0.0635919\tvalid_0's multi_logloss: 0.152992\n",
      "[381]\tvalid_0's multi_error: 0.0635399\tvalid_0's multi_logloss: 0.15299\n",
      "[382]\tvalid_0's multi_error: 0.0636024\tvalid_0's multi_logloss: 0.152986\n",
      "[383]\tvalid_0's multi_error: 0.0635399\tvalid_0's multi_logloss: 0.152972\n",
      "[384]\tvalid_0's multi_error: 0.0634253\tvalid_0's multi_logloss: 0.152961\n",
      "[385]\tvalid_0's multi_error: 0.0634461\tvalid_0's multi_logloss: 0.152958\n",
      "[386]\tvalid_0's multi_error: 0.0634044\tvalid_0's multi_logloss: 0.152999\n",
      "[387]\tvalid_0's multi_error: 0.0636232\tvalid_0's multi_logloss: 0.15299\n",
      "[388]\tvalid_0's multi_error: 0.0635815\tvalid_0's multi_logloss: 0.152977\n",
      "[389]\tvalid_0's multi_error: 0.0636753\tvalid_0's multi_logloss: 0.152975\n",
      "[390]\tvalid_0's multi_error: 0.0635815\tvalid_0's multi_logloss: 0.152975\n",
      "[391]\tvalid_0's multi_error: 0.0636024\tvalid_0's multi_logloss: 0.15297\n",
      "[392]\tvalid_0's multi_error: 0.0635503\tvalid_0's multi_logloss: 0.152955\n",
      "[393]\tvalid_0's multi_error: 0.0634357\tvalid_0's multi_logloss: 0.15297\n",
      "[394]\tvalid_0's multi_error: 0.0634357\tvalid_0's multi_logloss: 0.15297\n",
      "[395]\tvalid_0's multi_error: 0.0633627\tvalid_0's multi_logloss: 0.15298\n",
      "[396]\tvalid_0's multi_error: 0.0633836\tvalid_0's multi_logloss: 0.152973\n",
      "[397]\tvalid_0's multi_error: 0.0633627\tvalid_0's multi_logloss: 0.152979\n",
      "[398]\tvalid_0's multi_error: 0.0633315\tvalid_0's multi_logloss: 0.153045\n",
      "[399]\tvalid_0's multi_error: 0.0633419\tvalid_0's multi_logloss: 0.153066\n",
      "[400]\tvalid_0's multi_error: 0.0633523\tvalid_0's multi_logloss: 0.153131\n",
      "[401]\tvalid_0's multi_error: 0.0633419\tvalid_0's multi_logloss: 0.153119\n",
      "[402]\tvalid_0's multi_error: 0.063269\tvalid_0's multi_logloss: 0.153148\n",
      "[403]\tvalid_0's multi_error: 0.0633002\tvalid_0's multi_logloss: 0.153139\n",
      "[404]\tvalid_0's multi_error: 0.0632273\tvalid_0's multi_logloss: 0.153133\n",
      "[405]\tvalid_0's multi_error: 0.0632169\tvalid_0's multi_logloss: 0.153157\n",
      "[406]\tvalid_0's multi_error: 0.0631961\tvalid_0's multi_logloss: 0.153149\n",
      "[407]\tvalid_0's multi_error: 0.0630502\tvalid_0's multi_logloss: 0.153196\n",
      "[408]\tvalid_0's multi_error: 0.063071\tvalid_0's multi_logloss: 0.15318\n",
      "[409]\tvalid_0's multi_error: 0.063071\tvalid_0's multi_logloss: 0.153189\n",
      "[410]\tvalid_0's multi_error: 0.0630502\tvalid_0's multi_logloss: 0.153211\n",
      "[411]\tvalid_0's multi_error: 0.0631544\tvalid_0's multi_logloss: 0.153237\n",
      "[412]\tvalid_0's multi_error: 0.0631648\tvalid_0's multi_logloss: 0.153226\n",
      "[413]\tvalid_0's multi_error: 0.0631961\tvalid_0's multi_logloss: 0.153212\n",
      "[414]\tvalid_0's multi_error: 0.0632169\tvalid_0's multi_logloss: 0.153242\n",
      "[415]\tvalid_0's multi_error: 0.0632794\tvalid_0's multi_logloss: 0.153227\n",
      "[416]\tvalid_0's multi_error: 0.0631961\tvalid_0's multi_logloss: 0.153238\n",
      "[417]\tvalid_0's multi_error: 0.0632273\tvalid_0's multi_logloss: 0.15322\n",
      "[418]\tvalid_0's multi_error: 0.0632169\tvalid_0's multi_logloss: 0.153202\n",
      "[419]\tvalid_0's multi_error: 0.0632481\tvalid_0's multi_logloss: 0.153198\n",
      "[420]\tvalid_0's multi_error: 0.0632586\tvalid_0's multi_logloss: 0.153188\n",
      "[421]\tvalid_0's multi_error: 0.0632065\tvalid_0's multi_logloss: 0.153219\n",
      "[422]\tvalid_0's multi_error: 0.0632273\tvalid_0's multi_logloss: 0.153251\n",
      "[423]\tvalid_0's multi_error: 0.0633002\tvalid_0's multi_logloss: 0.15326\n",
      "[424]\tvalid_0's multi_error: 0.0633732\tvalid_0's multi_logloss: 0.153271\n",
      "[425]\tvalid_0's multi_error: 0.0633627\tvalid_0's multi_logloss: 0.15325\n",
      "[426]\tvalid_0's multi_error: 0.0633419\tvalid_0's multi_logloss: 0.153287\n",
      "[427]\tvalid_0's multi_error: 0.063269\tvalid_0's multi_logloss: 0.153295\n",
      "[428]\tvalid_0's multi_error: 0.0632898\tvalid_0's multi_logloss: 0.153274\n",
      "[429]\tvalid_0's multi_error: 0.0633627\tvalid_0's multi_logloss: 0.153279\n",
      "[430]\tvalid_0's multi_error: 0.0633315\tvalid_0's multi_logloss: 0.153268\n",
      "[431]\tvalid_0's multi_error: 0.063394\tvalid_0's multi_logloss: 0.153274\n",
      "[432]\tvalid_0's multi_error: 0.0634357\tvalid_0's multi_logloss: 0.153287\n",
      "[433]\tvalid_0's multi_error: 0.0634669\tvalid_0's multi_logloss: 0.153312\n",
      "[434]\tvalid_0's multi_error: 0.0634357\tvalid_0's multi_logloss: 0.153294\n",
      "[435]\tvalid_0's multi_error: 0.063394\tvalid_0's multi_logloss: 0.153282\n",
      "[436]\tvalid_0's multi_error: 0.0634148\tvalid_0's multi_logloss: 0.153304\n",
      "[437]\tvalid_0's multi_error: 0.0634669\tvalid_0's multi_logloss: 0.153328\n",
      "[438]\tvalid_0's multi_error: 0.0634878\tvalid_0's multi_logloss: 0.153314\n",
      "[439]\tvalid_0's multi_error: 0.0634878\tvalid_0's multi_logloss: 0.153301\n",
      "[440]\tvalid_0's multi_error: 0.0635503\tvalid_0's multi_logloss: 0.153304\n",
      "[441]\tvalid_0's multi_error: 0.0634669\tvalid_0's multi_logloss: 0.153325\n",
      "[442]\tvalid_0's multi_error: 0.0634878\tvalid_0's multi_logloss: 0.153367\n",
      "[443]\tvalid_0's multi_error: 0.0635086\tvalid_0's multi_logloss: 0.153354\n",
      "[444]\tvalid_0's multi_error: 0.0634878\tvalid_0's multi_logloss: 0.153392\n",
      "[445]\tvalid_0's multi_error: 0.0634461\tvalid_0's multi_logloss: 0.153418\n",
      "[446]\tvalid_0's multi_error: 0.0634357\tvalid_0's multi_logloss: 0.153403\n",
      "[447]\tvalid_0's multi_error: 0.0635503\tvalid_0's multi_logloss: 0.153376\n",
      "[448]\tvalid_0's multi_error: 0.0635711\tvalid_0's multi_logloss: 0.153418\n",
      "[449]\tvalid_0's multi_error: 0.0635919\tvalid_0's multi_logloss: 0.153454\n",
      "[450]\tvalid_0's multi_error: 0.0635399\tvalid_0's multi_logloss: 0.15347\n"
     ]
    },
    {
     "name": "stdout",
     "output_type": "stream",
     "text": [
      "[451]\tvalid_0's multi_error: 0.0635711\tvalid_0's multi_logloss: 0.153519\n",
      "[452]\tvalid_0's multi_error: 0.0635503\tvalid_0's multi_logloss: 0.153498\n",
      "[453]\tvalid_0's multi_error: 0.0635815\tvalid_0's multi_logloss: 0.153483\n",
      "[454]\tvalid_0's multi_error: 0.0635711\tvalid_0's multi_logloss: 0.153467\n",
      "[455]\tvalid_0's multi_error: 0.0636024\tvalid_0's multi_logloss: 0.153483\n",
      "[456]\tvalid_0's multi_error: 0.0636336\tvalid_0's multi_logloss: 0.153466\n",
      "[457]\tvalid_0's multi_error: 0.0636128\tvalid_0's multi_logloss: 0.153449\n",
      "[458]\tvalid_0's multi_error: 0.0636336\tvalid_0's multi_logloss: 0.153476\n",
      "[459]\tvalid_0's multi_error: 0.0637065\tvalid_0's multi_logloss: 0.153487\n",
      "[460]\tvalid_0's multi_error: 0.0636753\tvalid_0's multi_logloss: 0.153476\n",
      "[461]\tvalid_0's multi_error: 0.0636336\tvalid_0's multi_logloss: 0.153495\n",
      "[462]\tvalid_0's multi_error: 0.0636128\tvalid_0's multi_logloss: 0.153476\n",
      "[463]\tvalid_0's multi_error: 0.0636545\tvalid_0's multi_logloss: 0.153458\n",
      "[464]\tvalid_0's multi_error: 0.0635919\tvalid_0's multi_logloss: 0.153456\n",
      "[465]\tvalid_0's multi_error: 0.0635399\tvalid_0's multi_logloss: 0.15347\n",
      "[466]\tvalid_0's multi_error: 0.0635711\tvalid_0's multi_logloss: 0.153455\n",
      "[467]\tvalid_0's multi_error: 0.063644\tvalid_0's multi_logloss: 0.153503\n",
      "[468]\tvalid_0's multi_error: 0.0636649\tvalid_0's multi_logloss: 0.15349\n",
      "[469]\tvalid_0's multi_error: 0.0637065\tvalid_0's multi_logloss: 0.153504\n",
      "[470]\tvalid_0's multi_error: 0.0636753\tvalid_0's multi_logloss: 0.153488\n",
      "[471]\tvalid_0's multi_error: 0.0636336\tvalid_0's multi_logloss: 0.153476\n",
      "[472]\tvalid_0's multi_error: 0.0636128\tvalid_0's multi_logloss: 0.15346\n",
      "[473]\tvalid_0's multi_error: 0.0636857\tvalid_0's multi_logloss: 0.153472\n",
      "[474]\tvalid_0's multi_error: 0.0636024\tvalid_0's multi_logloss: 0.153493\n",
      "[475]\tvalid_0's multi_error: 0.0636649\tvalid_0's multi_logloss: 0.153538\n",
      "[476]\tvalid_0's multi_error: 0.0636857\tvalid_0's multi_logloss: 0.153525\n",
      "[477]\tvalid_0's multi_error: 0.0635607\tvalid_0's multi_logloss: 0.153523\n",
      "[478]\tvalid_0's multi_error: 0.0635919\tvalid_0's multi_logloss: 0.153502\n",
      "[479]\tvalid_0's multi_error: 0.063644\tvalid_0's multi_logloss: 0.153484\n",
      "[480]\tvalid_0's multi_error: 0.0636128\tvalid_0's multi_logloss: 0.15351\n",
      "[481]\tvalid_0's multi_error: 0.0635503\tvalid_0's multi_logloss: 0.153535\n",
      "[482]\tvalid_0's multi_error: 0.0635086\tvalid_0's multi_logloss: 0.153545\n",
      "[483]\tvalid_0's multi_error: 0.0635607\tvalid_0's multi_logloss: 0.153563\n",
      "[484]\tvalid_0's multi_error: 0.0634357\tvalid_0's multi_logloss: 0.153561\n",
      "[485]\tvalid_0's multi_error: 0.0634357\tvalid_0's multi_logloss: 0.153545\n",
      "[486]\tvalid_0's multi_error: 0.0634773\tvalid_0's multi_logloss: 0.153589\n",
      "[487]\tvalid_0's multi_error: 0.063519\tvalid_0's multi_logloss: 0.153598\n",
      "[488]\tvalid_0's multi_error: 0.0634148\tvalid_0's multi_logloss: 0.15362\n",
      "[489]\tvalid_0's multi_error: 0.0634982\tvalid_0's multi_logloss: 0.153667\n",
      "[490]\tvalid_0's multi_error: 0.0634565\tvalid_0's multi_logloss: 0.153642\n",
      "[491]\tvalid_0's multi_error: 0.0634669\tvalid_0's multi_logloss: 0.15362\n",
      "[492]\tvalid_0's multi_error: 0.063519\tvalid_0's multi_logloss: 0.153602\n",
      "[493]\tvalid_0's multi_error: 0.0635086\tvalid_0's multi_logloss: 0.153585\n",
      "[494]\tvalid_0's multi_error: 0.063519\tvalid_0's multi_logloss: 0.153614\n",
      "[495]\tvalid_0's multi_error: 0.0635815\tvalid_0's multi_logloss: 0.15364\n",
      "[496]\tvalid_0's multi_error: 0.0634773\tvalid_0's multi_logloss: 0.153675\n",
      "[497]\tvalid_0's multi_error: 0.0635086\tvalid_0's multi_logloss: 0.153749\n",
      "[498]\tvalid_0's multi_error: 0.0634669\tvalid_0's multi_logloss: 0.153748\n",
      "[499]\tvalid_0's multi_error: 0.0634773\tvalid_0's multi_logloss: 0.15373\n",
      "[500]\tvalid_0's multi_error: 0.0634669\tvalid_0's multi_logloss: 0.153784\n"
     ]
    },
    {
     "data": {
      "text/plain": [
       "LGBMClassifier(boosting_type='dart', class_weight=None, colsample_bytree=1.0,\n",
       "               importance_type='split', learning_rate=0.1, max_depth=28,\n",
       "               min_child_samples=20, min_child_weight=0.001, min_split_gain=0.0,\n",
       "               n_estimators=500, n_jobs=-1, num_class=3, num_leaves=95,\n",
       "               objective='multiclass', random_state=None, reg_alpha=0.0,\n",
       "               reg_lambda=0.0, silent=True, subsample=1.0,\n",
       "               subsample_for_bin=200000, subsample_freq=0)"
      ]
     },
     "execution_count": 300,
     "metadata": {},
     "output_type": "execute_result"
    }
   ],
   "source": [
    "lgbm_clf.fit(X_train_1,y_train_1,eval_set=evals_1,eval_metric='multi_error',verbose=True)"
   ]
  },
  {
   "cell_type": "code",
   "execution_count": 330,
   "metadata": {
    "scrolled": false
   },
   "outputs": [
    {
     "name": "stdout",
     "output_type": "stream",
     "text": [
      "***valid_1***\n",
      "오차행렬:\n",
      " [[35959    34    60]\n",
      " [   16  8963  3788]\n",
      " [   30  2164 44973]]\n",
      "\n",
      "정확도: 0.9365\n",
      "None\n",
      "\n",
      "***train_1***\n",
      "오차행렬:\n",
      " [[ 83913      0      0]\n",
      " [     0  24928   5083]\n",
      " [     0   1646 108397]]\n",
      "\n",
      "정확도: 0.9700\n",
      "None\n"
     ]
    }
   ],
   "source": [
    "#accuracy\n",
    "preds_val_1=lgbm_clf.predict(X_val_1)\n",
    "preds_train_1=lgbm_clf.predict(X_train_1)\n",
    "print('***valid_1***')\n",
    "print(get_clf_eval(y_val_1,preds_val_1))\n",
    "print()\n",
    "print('***train_1***')\n",
    "print(get_clf_eval(y_train_1,preds_train_1))"
   ]
  },
  {
   "cell_type": "markdown",
   "metadata": {},
   "source": [
    "# random forest"
   ]
  },
  {
   "cell_type": "code",
   "execution_count": 11,
   "metadata": {
    "scrolled": false
   },
   "outputs": [
    {
     "data": {
      "text/plain": [
       "(319954, 125)"
      ]
     },
     "execution_count": 11,
     "metadata": {},
     "output_type": "execute_result"
    }
   ],
   "source": [
    "trn.shape"
   ]
  },
  {
   "cell_type": "code",
   "execution_count": 12,
   "metadata": {},
   "outputs": [],
   "source": [
    "rf_clf = RandomForestClassifier(n_estimators = 200, \n",
    "                                random_state=2020,\n",
    "                                verbose=True,\n",
    "                                oob_score=True,\n",
    "                                n_jobs=-1)"
   ]
  },
  {
   "cell_type": "code",
   "execution_count": 281,
   "metadata": {},
   "outputs": [
    {
     "name": "stderr",
     "output_type": "stream",
     "text": [
      "[Parallel(n_jobs=-1)]: Using backend ThreadingBackend with 8 concurrent workers.\n",
      "[Parallel(n_jobs=-1)]: Done  34 tasks      | elapsed:   41.5s\n",
      "[Parallel(n_jobs=-1)]: Done 184 tasks      | elapsed:  3.4min\n",
      "[Parallel(n_jobs=-1)]: Done 200 out of 200 | elapsed:  3.7min finished\n"
     ]
    },
    {
     "data": {
      "text/plain": [
       "RandomForestClassifier(bootstrap=True, class_weight=None, criterion='gini',\n",
       "                       max_depth=None, max_features='auto', max_leaf_nodes=None,\n",
       "                       min_impurity_decrease=0.0, min_impurity_split=None,\n",
       "                       min_samples_leaf=1, min_samples_split=2,\n",
       "                       min_weight_fraction_leaf=0.0, n_estimators=200,\n",
       "                       n_jobs=-1, oob_score=False, random_state=2020,\n",
       "                       verbose=True, warm_start=False)"
      ]
     },
     "execution_count": 281,
     "metadata": {},
     "output_type": "execute_result"
    }
   ],
   "source": [
    "rf_clf.fit(X_train_1,y_train_1,)"
   ]
  },
  {
   "cell_type": "code",
   "execution_count": 283,
   "metadata": {},
   "outputs": [
    {
     "name": "stderr",
     "output_type": "stream",
     "text": [
      "[Parallel(n_jobs=8)]: Using backend ThreadingBackend with 8 concurrent workers.\n",
      "[Parallel(n_jobs=8)]: Done  34 tasks      | elapsed:    0.2s\n",
      "[Parallel(n_jobs=8)]: Done 184 tasks      | elapsed:    1.3s\n",
      "[Parallel(n_jobs=8)]: Done 200 out of 200 | elapsed:    1.4s finished\n",
      "[Parallel(n_jobs=8)]: Using backend ThreadingBackend with 8 concurrent workers.\n",
      "[Parallel(n_jobs=8)]: Done  34 tasks      | elapsed:    0.5s\n",
      "[Parallel(n_jobs=8)]: Done 184 tasks      | elapsed:    3.0s\n",
      "[Parallel(n_jobs=8)]: Done 200 out of 200 | elapsed:    3.2s finished\n"
     ]
    },
    {
     "name": "stdout",
     "output_type": "stream",
     "text": [
      "***valid_1***\n",
      "오차행렬:\n",
      " [[35963    35    55]\n",
      " [   13  8919  3835]\n",
      " [   30  2099 45038]]\n",
      "\n",
      "정확도: 0.9368\n",
      "None\n",
      "\n",
      "***train_1***\n",
      "오차행렬:\n",
      " [[ 83913      0      0]\n",
      " [     0  30011      0]\n",
      " [     0      0 110043]]\n",
      "\n",
      "정확도: 1.0000\n",
      "None\n"
     ]
    }
   ],
   "source": [
    "#accuracy\n",
    "preds_val_1=rf_clf.predict(X_val_1)\n",
    "preds_train_1=rf_clf.predict(X_train_1)\n",
    "print('***valid_1***')\n",
    "print(get_clf_eval(y_val_1,preds_val_1))\n",
    "print()\n",
    "print('***train_1***')\n",
    "print(get_clf_eval(y_train_1,preds_train_1))"
   ]
  },
  {
   "cell_type": "code",
   "execution_count": null,
   "metadata": {},
   "outputs": [],
   "source": []
  },
  {
   "cell_type": "markdown",
   "metadata": {},
   "source": [
    "## xgboost"
   ]
  },
  {
   "cell_type": "code",
   "execution_count": 13,
   "metadata": {},
   "outputs": [],
   "source": [
    "import xgboost as xgb"
   ]
  },
  {
   "cell_type": "code",
   "execution_count": 14,
   "metadata": {},
   "outputs": [
    {
     "data": {
      "text/plain": [
       "XGBClassifier(booster='dart', feature_fraction=0.9, max_depth=10,\n",
       "              n_estimators=220, n_jobs=-1, num_class=3, objective='multiclass',\n",
       "              tree_method='exact')"
      ]
     },
     "execution_count": 14,
     "metadata": {},
     "output_type": "execute_result"
    }
   ],
   "source": [
    "xgb_clf = xgb.XGBClassifier(learning_rate=0.1,\n",
    "                          n_estimators=220,\n",
    "                          max_depth=10,\n",
    "                          feature_fraction=0.9,\n",
    "                          booster='dart',\n",
    "                          tree_method='exact',\n",
    "                            objective='multiclass',\n",
    "                            num_class=3,\n",
    "                            n_jobs=-1)\n",
    "xgb_clf"
   ]
  },
  {
   "cell_type": "code",
   "execution_count": 296,
   "metadata": {
    "scrolled": true
   },
   "outputs": [
    {
     "name": "stdout",
     "output_type": "stream",
     "text": [
      "[0]\tvalidation_0-merror:0.070687\n",
      "[1]\tvalidation_0-merror:0.069509\n",
      "[2]\tvalidation_0-merror:0.06852\n",
      "[3]\tvalidation_0-merror:0.068238\n",
      "[4]\tvalidation_0-merror:0.067874\n",
      "[5]\tvalidation_0-merror:0.067415\n",
      "[6]\tvalidation_0-merror:0.067051\n",
      "[7]\tvalidation_0-merror:0.067072\n",
      "[8]\tvalidation_0-merror:0.066769\n",
      "[9]\tvalidation_0-merror:0.066582\n",
      "[10]\tvalidation_0-merror:0.066217\n",
      "[11]\tvalidation_0-merror:0.066321\n",
      "[12]\tvalidation_0-merror:0.066207\n",
      "[13]\tvalidation_0-merror:0.065894\n",
      "[14]\tvalidation_0-merror:0.065811\n",
      "[15]\tvalidation_0-merror:0.065801\n",
      "[16]\tvalidation_0-merror:0.065623\n",
      "[17]\tvalidation_0-merror:0.065509\n",
      "[18]\tvalidation_0-merror:0.065373\n",
      "[19]\tvalidation_0-merror:0.065509\n",
      "[20]\tvalidation_0-merror:0.065415\n",
      "[21]\tvalidation_0-merror:0.065228\n",
      "[22]\tvalidation_0-merror:0.06528\n",
      "[23]\tvalidation_0-merror:0.065228\n",
      "[24]\tvalidation_0-merror:0.065175\n",
      "[25]\tvalidation_0-merror:0.064978\n",
      "[26]\tvalidation_0-merror:0.065061\n",
      "[27]\tvalidation_0-merror:0.06504\n",
      "[28]\tvalidation_0-merror:0.064769\n",
      "[29]\tvalidation_0-merror:0.064696\n",
      "[30]\tvalidation_0-merror:0.064498\n",
      "[31]\tvalidation_0-merror:0.064269\n",
      "[32]\tvalidation_0-merror:0.064342\n",
      "[33]\tvalidation_0-merror:0.064238\n",
      "[34]\tvalidation_0-merror:0.064248\n",
      "[35]\tvalidation_0-merror:0.064259\n",
      "[36]\tvalidation_0-merror:0.064071\n",
      "[37]\tvalidation_0-merror:0.064061\n",
      "[38]\tvalidation_0-merror:0.064082\n",
      "[39]\tvalidation_0-merror:0.064009\n",
      "[40]\tvalidation_0-merror:0.063707\n",
      "[41]\tvalidation_0-merror:0.063654\n",
      "[42]\tvalidation_0-merror:0.063654\n",
      "[43]\tvalidation_0-merror:0.063582\n",
      "[44]\tvalidation_0-merror:0.063644\n",
      "[45]\tvalidation_0-merror:0.063707\n",
      "[46]\tvalidation_0-merror:0.063686\n",
      "[47]\tvalidation_0-merror:0.06355\n",
      "[48]\tvalidation_0-merror:0.063613\n",
      "[49]\tvalidation_0-merror:0.063561\n",
      "[50]\tvalidation_0-merror:0.06355\n",
      "[51]\tvalidation_0-merror:0.06354\n",
      "[52]\tvalidation_0-merror:0.063488\n",
      "[53]\tvalidation_0-merror:0.063436\n",
      "[54]\tvalidation_0-merror:0.063436\n",
      "[55]\tvalidation_0-merror:0.063415\n",
      "[56]\tvalidation_0-merror:0.063363\n",
      "[57]\tvalidation_0-merror:0.063436\n",
      "[58]\tvalidation_0-merror:0.063342\n",
      "[59]\tvalidation_0-merror:0.063311\n",
      "[60]\tvalidation_0-merror:0.063238\n",
      "[61]\tvalidation_0-merror:0.063331\n",
      "[62]\tvalidation_0-merror:0.06329\n",
      "[63]\tvalidation_0-merror:0.063321\n",
      "[64]\tvalidation_0-merror:0.063384\n",
      "[65]\tvalidation_0-merror:0.063404\n",
      "[66]\tvalidation_0-merror:0.063404\n",
      "[67]\tvalidation_0-merror:0.063321\n",
      "[68]\tvalidation_0-merror:0.0633\n",
      "[69]\tvalidation_0-merror:0.063259\n",
      "[70]\tvalidation_0-merror:0.063279\n",
      "[71]\tvalidation_0-merror:0.063331\n",
      "[72]\tvalidation_0-merror:0.063331\n",
      "[73]\tvalidation_0-merror:0.063498\n",
      "[74]\tvalidation_0-merror:0.063467\n",
      "[75]\tvalidation_0-merror:0.063436\n",
      "[76]\tvalidation_0-merror:0.063404\n",
      "[77]\tvalidation_0-merror:0.063436\n",
      "[78]\tvalidation_0-merror:0.063331\n",
      "[79]\tvalidation_0-merror:0.063269\n",
      "[80]\tvalidation_0-merror:0.063404\n",
      "[81]\tvalidation_0-merror:0.063373\n",
      "[82]\tvalidation_0-merror:0.063321\n",
      "[83]\tvalidation_0-merror:0.063259\n",
      "[84]\tvalidation_0-merror:0.063311\n",
      "[85]\tvalidation_0-merror:0.063425\n",
      "[86]\tvalidation_0-merror:0.063467\n",
      "[87]\tvalidation_0-merror:0.063467\n",
      "[88]\tvalidation_0-merror:0.063488\n",
      "[89]\tvalidation_0-merror:0.063582\n",
      "[90]\tvalidation_0-merror:0.063665\n",
      "[91]\tvalidation_0-merror:0.063561\n",
      "[92]\tvalidation_0-merror:0.06354\n",
      "[93]\tvalidation_0-merror:0.063582\n",
      "[94]\tvalidation_0-merror:0.063571\n",
      "[95]\tvalidation_0-merror:0.063571\n",
      "[96]\tvalidation_0-merror:0.063436\n",
      "[97]\tvalidation_0-merror:0.063415\n",
      "[98]\tvalidation_0-merror:0.063384\n",
      "[99]\tvalidation_0-merror:0.0633\n",
      "[100]\tvalidation_0-merror:0.063415\n",
      "[101]\tvalidation_0-merror:0.063436\n",
      "[102]\tvalidation_0-merror:0.063477\n",
      "[103]\tvalidation_0-merror:0.063404\n",
      "[104]\tvalidation_0-merror:0.063384\n",
      "[105]\tvalidation_0-merror:0.063321\n",
      "[106]\tvalidation_0-merror:0.063415\n",
      "[107]\tvalidation_0-merror:0.063436\n",
      "[108]\tvalidation_0-merror:0.063384\n",
      "[109]\tvalidation_0-merror:0.063311\n",
      "[110]\tvalidation_0-merror:0.063269\n",
      "[111]\tvalidation_0-merror:0.063238\n",
      "[112]\tvalidation_0-merror:0.063269\n",
      "[113]\tvalidation_0-merror:0.0633\n",
      "[114]\tvalidation_0-merror:0.063311\n",
      "[115]\tvalidation_0-merror:0.063363\n",
      "[116]\tvalidation_0-merror:0.063363\n",
      "[117]\tvalidation_0-merror:0.063259\n",
      "[118]\tvalidation_0-merror:0.063238\n",
      "[119]\tvalidation_0-merror:0.063269\n",
      "[120]\tvalidation_0-merror:0.063269\n",
      "[121]\tvalidation_0-merror:0.063206\n",
      "[122]\tvalidation_0-merror:0.063248\n",
      "[123]\tvalidation_0-merror:0.063217\n",
      "[124]\tvalidation_0-merror:0.063217\n",
      "[125]\tvalidation_0-merror:0.063175\n",
      "[126]\tvalidation_0-merror:0.063206\n",
      "[127]\tvalidation_0-merror:0.063175\n",
      "[128]\tvalidation_0-merror:0.063134\n",
      "[129]\tvalidation_0-merror:0.063175\n",
      "[130]\tvalidation_0-merror:0.063175\n",
      "[131]\tvalidation_0-merror:0.063196\n",
      "[132]\tvalidation_0-merror:0.063342\n",
      "[133]\tvalidation_0-merror:0.063352\n",
      "[134]\tvalidation_0-merror:0.063269\n",
      "[135]\tvalidation_0-merror:0.063269\n",
      "[136]\tvalidation_0-merror:0.063186\n",
      "[137]\tvalidation_0-merror:0.063186\n",
      "[138]\tvalidation_0-merror:0.063175\n",
      "[139]\tvalidation_0-merror:0.063154\n",
      "[140]\tvalidation_0-merror:0.063102\n",
      "[141]\tvalidation_0-merror:0.063227\n",
      "[142]\tvalidation_0-merror:0.063196\n",
      "[143]\tvalidation_0-merror:0.063175\n",
      "[144]\tvalidation_0-merror:0.063186\n",
      "[145]\tvalidation_0-merror:0.063259\n",
      "[146]\tvalidation_0-merror:0.063227\n",
      "[147]\tvalidation_0-merror:0.063331\n",
      "[148]\tvalidation_0-merror:0.063352\n",
      "[149]\tvalidation_0-merror:0.063352\n",
      "[150]\tvalidation_0-merror:0.063321\n",
      "[151]\tvalidation_0-merror:0.063321\n",
      "[152]\tvalidation_0-merror:0.063259\n",
      "[153]\tvalidation_0-merror:0.063217\n",
      "[154]\tvalidation_0-merror:0.063186\n",
      "[155]\tvalidation_0-merror:0.063175\n",
      "[156]\tvalidation_0-merror:0.063175\n",
      "[157]\tvalidation_0-merror:0.063175\n",
      "[158]\tvalidation_0-merror:0.063144\n",
      "[159]\tvalidation_0-merror:0.063206\n",
      "[160]\tvalidation_0-merror:0.063206\n",
      "[161]\tvalidation_0-merror:0.0633\n",
      "[162]\tvalidation_0-merror:0.063331\n",
      "[163]\tvalidation_0-merror:0.063331\n",
      "[164]\tvalidation_0-merror:0.063248\n",
      "[165]\tvalidation_0-merror:0.063259\n",
      "[166]\tvalidation_0-merror:0.063238\n",
      "[167]\tvalidation_0-merror:0.063331\n",
      "[168]\tvalidation_0-merror:0.0633\n",
      "[169]\tvalidation_0-merror:0.063206\n",
      "[170]\tvalidation_0-merror:0.063102\n",
      "[171]\tvalidation_0-merror:0.063123\n",
      "[172]\tvalidation_0-merror:0.063113\n",
      "[173]\tvalidation_0-merror:0.063113\n",
      "[174]\tvalidation_0-merror:0.06304\n",
      "[175]\tvalidation_0-merror:0.063144\n",
      "[176]\tvalidation_0-merror:0.063123\n",
      "[177]\tvalidation_0-merror:0.063165\n",
      "[178]\tvalidation_0-merror:0.063144\n",
      "[179]\tvalidation_0-merror:0.063165\n",
      "[180]\tvalidation_0-merror:0.063259\n",
      "[181]\tvalidation_0-merror:0.063248\n",
      "[182]\tvalidation_0-merror:0.063259\n",
      "[183]\tvalidation_0-merror:0.063311\n",
      "[184]\tvalidation_0-merror:0.063321\n",
      "[185]\tvalidation_0-merror:0.0633\n",
      "[186]\tvalidation_0-merror:0.0633\n",
      "[187]\tvalidation_0-merror:0.063373\n",
      "[188]\tvalidation_0-merror:0.063321\n",
      "[189]\tvalidation_0-merror:0.063342\n",
      "[190]\tvalidation_0-merror:0.063363\n",
      "[191]\tvalidation_0-merror:0.063384\n",
      "[192]\tvalidation_0-merror:0.063331\n",
      "[193]\tvalidation_0-merror:0.063384\n",
      "[194]\tvalidation_0-merror:0.063352\n",
      "[195]\tvalidation_0-merror:0.063321\n",
      "[196]\tvalidation_0-merror:0.0633\n",
      "[197]\tvalidation_0-merror:0.063227\n",
      "[198]\tvalidation_0-merror:0.063227\n",
      "[199]\tvalidation_0-merror:0.063259\n",
      "[200]\tvalidation_0-merror:0.063186\n",
      "[201]\tvalidation_0-merror:0.063206\n",
      "[202]\tvalidation_0-merror:0.063206\n",
      "[203]\tvalidation_0-merror:0.063227\n",
      "[204]\tvalidation_0-merror:0.063248\n",
      "[205]\tvalidation_0-merror:0.063134\n",
      "[206]\tvalidation_0-merror:0.063175\n",
      "[207]\tvalidation_0-merror:0.063154\n",
      "[208]\tvalidation_0-merror:0.063175\n",
      "[209]\tvalidation_0-merror:0.063196\n",
      "[210]\tvalidation_0-merror:0.063134\n",
      "[211]\tvalidation_0-merror:0.063061\n",
      "[212]\tvalidation_0-merror:0.063081\n",
      "[213]\tvalidation_0-merror:0.063061\n",
      "[214]\tvalidation_0-merror:0.063009\n",
      "[215]\tvalidation_0-merror:0.063009\n",
      "[216]\tvalidation_0-merror:0.063102\n",
      "[217]\tvalidation_0-merror:0.063123\n",
      "[218]\tvalidation_0-merror:0.06305\n",
      "[219]\tvalidation_0-merror:0.063113\n"
     ]
    },
    {
     "data": {
      "text/plain": [
       "XGBClassifier(base_score=0.5, booster='dart', colsample_bylevel=1,\n",
       "              colsample_bynode=1, colsample_bytree=1, feature_fraction=0.9,\n",
       "              gamma=0, learning_rate=0.1, max_delta_step=0, max_depth=10,\n",
       "              min_child_weight=1, missing=None, n_estimators=220, n_jobs=-1,\n",
       "              nthread=None, num_class=3, objective='multi:softprob',\n",
       "              random_state=0, reg_alpha=0, reg_lambda=1, scale_pos_weight=1,\n",
       "              seed=None, silent=None, subsample=1, tree_method='exact',\n",
       "              verbosity=1)"
      ]
     },
     "execution_count": 296,
     "metadata": {},
     "output_type": "execute_result"
    }
   ],
   "source": [
    "xgb_clf.fit(X_train_1,y_train_1,eval_set=evals_1,verbose=True)"
   ]
  },
  {
   "cell_type": "code",
   "execution_count": 297,
   "metadata": {},
   "outputs": [
    {
     "name": "stdout",
     "output_type": "stream",
     "text": [
      "***valid_1***\n",
      "오차행렬:\n",
      " [[35967    36    50]\n",
      " [   15  9019  3733]\n",
      " [   26  2198 44943]]\n",
      "\n",
      "정확도: 0.9369\n",
      "None\n",
      "\n",
      "***train_1***\n",
      "오차행렬:\n",
      " [[ 83913      0      0]\n",
      " [     0  27349   2662]\n",
      " [     0    737 109306]]\n",
      "\n",
      "정확도: 0.9848\n",
      "None\n"
     ]
    }
   ],
   "source": [
    "#accuracy\n",
    "preds_val_1=xgb_clf.predict(X_val_1)\n",
    "preds_train_1=xgb_clf.predict(X_train_1)\n",
    "print('***valid_1***')\n",
    "print(get_clf_eval(y_val_1,preds_val_1))\n",
    "print()\n",
    "print('***train_1***')\n",
    "print(get_clf_eval(y_train_1,preds_train_1))"
   ]
  },
  {
   "cell_type": "code",
   "execution_count": null,
   "metadata": {},
   "outputs": [],
   "source": []
  },
  {
   "cell_type": "code",
   "execution_count": null,
   "metadata": {},
   "outputs": [],
   "source": []
  },
  {
   "cell_type": "markdown",
   "metadata": {},
   "source": [
    "\n",
    "## ensemble"
   ]
  },
  {
   "cell_type": "code",
   "execution_count": 15,
   "metadata": {},
   "outputs": [],
   "source": [
    "from sklearn.ensemble import VotingClassifier"
   ]
  },
  {
   "cell_type": "code",
   "execution_count": null,
   "metadata": {},
   "outputs": [],
   "source": []
  },
  {
   "cell_type": "code",
   "execution_count": null,
   "metadata": {},
   "outputs": [],
   "source": []
  },
  {
   "cell_type": "code",
   "execution_count": 34,
   "metadata": {},
   "outputs": [],
   "source": [
    "lgbm_clf=LGBMClassifier(\n",
    "        n_estimators = 500,\n",
    "        boosting_type ='dart',\n",
    "        learning_rate =0.1,\n",
    "        num_leaves = 95,\n",
    "        max_depth = 28,\n",
    "        objective='multiclass',\n",
    "        num_class=3\n",
    "        )"
   ]
  },
  {
   "cell_type": "code",
   "execution_count": 35,
   "metadata": {},
   "outputs": [
    {
     "data": {
      "text/plain": [
       "XGBClassifier(booster='dart', feature_fraction=0.9, max_depth=10,\n",
       "              n_estimators=220, n_jobs=-1, num_class=3, objective='multiclass',\n",
       "              tree_method='exact')"
      ]
     },
     "execution_count": 35,
     "metadata": {},
     "output_type": "execute_result"
    }
   ],
   "source": [
    "xgb_clf = xgb.XGBClassifier(learning_rate=0.1,\n",
    "                          n_estimators=220,\n",
    "                          max_depth=10,\n",
    "                          feature_fraction=0.9,\n",
    "                          booster='dart',\n",
    "                          tree_method='exact',\n",
    "                            objective='multiclass',\n",
    "                            num_class=3,\n",
    "                            n_jobs=-1)\n",
    "xgb_clf"
   ]
  },
  {
   "cell_type": "code",
   "execution_count": 36,
   "metadata": {},
   "outputs": [],
   "source": [
    "rf_clf = RandomForestClassifier(n_estimators = 200, \n",
    "                                random_state=2020,\n",
    "                                verbose=True,\n",
    "                                oob_score=True,\n",
    "                                n_jobs=-1)"
   ]
  },
  {
   "cell_type": "code",
   "execution_count": 37,
   "metadata": {},
   "outputs": [
    {
     "data": {
      "text/plain": [
       "VotingClassifier(estimators=[('lgbm',\n",
       "                              LGBMClassifier(boosting_type='dart', max_depth=28,\n",
       "                                             n_estimators=500, num_class=3,\n",
       "                                             num_leaves=95,\n",
       "                                             objective='multiclass')),\n",
       "                             ('rf',\n",
       "                              RandomForestClassifier(n_estimators=200,\n",
       "                                                     n_jobs=-1, oob_score=True,\n",
       "                                                     random_state=2020,\n",
       "                                                     verbose=True)),\n",
       "                             ('xgb',\n",
       "                              XGBClassifier(booster='dart',\n",
       "                                            feature_fraction=0.9, max_depth=10,\n",
       "                                            n_estimators=220, n_jobs=-1,\n",
       "                                            num_class=3, objective='multiclass',\n",
       "                                            tree_method='exact'))],\n",
       "                 n_jobs=-1, verbose=True, voting='soft')"
      ]
     },
     "execution_count": 37,
     "metadata": {},
     "output_type": "execute_result"
    }
   ],
   "source": [
    "voting_clf = VotingClassifier(estimators=[('lgbm',lgbm_clf),('rf',rf_clf),('xgb',xgb_clf)],voting='soft',verbose=True,n_jobs=-1)\n",
    "voting_clf"
   ]
  },
  {
   "cell_type": "code",
   "execution_count": null,
   "metadata": {},
   "outputs": [],
   "source": [
    "voting_clf.fit(X_train_1,y_train_1)"
   ]
  },
  {
   "cell_type": "code",
   "execution_count": 21,
   "metadata": {},
   "outputs": [
    {
     "name": "stderr",
     "output_type": "stream",
     "text": [
      "[Parallel(n_jobs=8)]: Using backend ThreadingBackend with 8 concurrent workers.\n",
      "[Parallel(n_jobs=8)]: Done  34 tasks      | elapsed:    0.2s\n",
      "[Parallel(n_jobs=8)]: Done 184 tasks      | elapsed:    1.2s\n",
      "[Parallel(n_jobs=8)]: Done 200 out of 200 | elapsed:    1.3s finished\n",
      "[Parallel(n_jobs=8)]: Using backend ThreadingBackend with 8 concurrent workers.\n",
      "[Parallel(n_jobs=8)]: Done  34 tasks      | elapsed:    0.6s\n",
      "[Parallel(n_jobs=8)]: Done 184 tasks      | elapsed:    3.5s\n",
      "[Parallel(n_jobs=8)]: Done 200 out of 200 | elapsed:    3.7s finished\n"
     ]
    },
    {
     "name": "stdout",
     "output_type": "stream",
     "text": [
      "***valid_1***\n",
      "오차행렬:\n",
      " [[35965    36    52]\n",
      " [   13  8967  3787]\n",
      " [   27  2093 45047]]\n",
      "\n",
      "정확도: 0.9374\n",
      "None\n",
      "\n",
      "***train_1***\n",
      "오차행렬:\n",
      " [[ 83913      0      0]\n",
      " [     0  27473   2538]\n",
      " [     0    630 109413]]\n",
      "\n",
      "정확도: 0.9859\n",
      "None\n"
     ]
    }
   ],
   "source": [
    "print(voting_clf)\n",
    "print(X_train_1.shape)\n",
    "#accuracy\n",
    "preds_val_1=voting_clf.predict(X_val_1)\n",
    "preds_train_1=voting_clf.predict(X_train_1)\n",
    "print('***valid_1***')\n",
    "print(get_clf_eval(y_val_1,preds_val_1))\n",
    "print()\n",
    "print('***train_1***')\n",
    "print(get_clf_eval(y_train_1,preds_train_1))"
   ]
  },
  {
   "cell_type": "code",
   "execution_count": null,
   "metadata": {},
   "outputs": [],
   "source": []
  },
  {
   "cell_type": "code",
   "execution_count": 22,
   "metadata": {},
   "outputs": [
    {
     "data": {
      "text/plain": [
       "(319954, 125)"
      ]
     },
     "execution_count": 22,
     "metadata": {},
     "output_type": "execute_result"
    }
   ],
   "source": [
    "trn.shape"
   ]
  },
  {
   "cell_type": "code",
   "execution_count": 23,
   "metadata": {},
   "outputs": [],
   "source": [
    "ftr=trn.drop(\"class\",axis=1)\n",
    "target=trn['class']"
   ]
  },
  {
   "cell_type": "code",
   "execution_count": 24,
   "metadata": {},
   "outputs": [],
   "source": [
    "from sklearn.ensemble import VotingClassifier"
   ]
  },
  {
   "cell_type": "code",
   "execution_count": 25,
   "metadata": {},
   "outputs": [
    {
     "data": {
      "text/plain": [
       "VotingClassifier(estimators=[('lgbm',\n",
       "                              LGBMClassifier(boosting_type='dart', max_depth=28,\n",
       "                                             n_estimators=500, num_class=3,\n",
       "                                             num_leaves=95,\n",
       "                                             objective='multiclass')),\n",
       "                             ('rf',\n",
       "                              RandomForestClassifier(n_estimators=200,\n",
       "                                                     n_jobs=-1, oob_score=True,\n",
       "                                                     random_state=2020,\n",
       "                                                     verbose=True)),\n",
       "                             ('xgb',\n",
       "                              XGBClassifier(booster='dart',\n",
       "                                            feature_fraction=0.9, max_depth=10,\n",
       "                                            n_estimators=220, n_jobs=-1,\n",
       "                                            num_class=3, objective='multiclass',\n",
       "                                            tree_method='exact'))],\n",
       "                 n_jobs=-1, verbose=True)"
      ]
     },
     "execution_count": 25,
     "metadata": {},
     "output_type": "execute_result"
    }
   ],
   "source": [
    "voting_clf = VotingClassifier(estimators=[('lgbm',lgbm_clf),('rf',rf_clf),('xgb',xgb_clf)],voting='hard',verbose=True,n_jobs=-1)\n",
    "voting_clf"
   ]
  },
  {
   "cell_type": "code",
   "execution_count": 26,
   "metadata": {},
   "outputs": [
    {
     "data": {
      "text/plain": [
       "VotingClassifier(estimators=[('lgbm',\n",
       "                              LGBMClassifier(boosting_type='dart', max_depth=28,\n",
       "                                             n_estimators=500, num_class=3,\n",
       "                                             num_leaves=95,\n",
       "                                             objective='multiclass')),\n",
       "                             ('rf',\n",
       "                              RandomForestClassifier(n_estimators=200,\n",
       "                                                     n_jobs=-1, oob_score=True,\n",
       "                                                     random_state=2020,\n",
       "                                                     verbose=True)),\n",
       "                             ('xgb',\n",
       "                              XGBClassifier(booster='dart',\n",
       "                                            feature_fraction=0.9, max_depth=10,\n",
       "                                            n_estimators=220, n_jobs=-1,\n",
       "                                            num_class=3, objective='multiclass',\n",
       "                                            tree_method='exact'))],\n",
       "                 n_jobs=-1, verbose=True)"
      ]
     },
     "execution_count": 26,
     "metadata": {},
     "output_type": "execute_result"
    }
   ],
   "source": [
    "voting_clf.fit(ftr,target)"
   ]
  },
  {
   "cell_type": "markdown",
   "metadata": {},
   "source": [
    "# 제출"
   ]
  },
  {
   "cell_type": "code",
   "execution_count": 27,
   "metadata": {},
   "outputs": [],
   "source": [
    "# 테스트 데이터 정리\n",
    "tst = pd.read_csv('C:/python/DACON_DATA/test.csv', index_col=0)"
   ]
  },
  {
   "cell_type": "code",
   "execution_count": 28,
   "metadata": {},
   "outputs": [
    {
     "name": "stderr",
     "output_type": "stream",
     "text": [
      "78it [00:00, 87.29it/s] \n",
      "C:\\Users\\ATIV\\Anaconda3\\lib\\site-packages\\pandas\\core\\series.py:853: RuntimeWarning: invalid value encountered in log1p\n",
      "  result = getattr(ufunc, method)(*inputs, **kwargs)\n"
     ]
    }
   ],
   "source": [
    "all_fea=['u','g','r','i','z','redshift','dered_u','dered_g','dered_r','dered_i','dered_z','nObserve','nDetect','airmass_u','airmass_g','airmass_r','airmass_i','airmass_z']\n",
    "fea=['u', 'g', 'r', 'i', 'z', 'redshift', 'dered_u', 'dered_g','dered_r', 'dered_i', 'dered_z']\n",
    "fea2=['u','g','r','i','z','redshift','dered_u','dered_g','dered_r','dered_i','dered_z','nObserve','nDetect']\n",
    "names=['u','g','r','i','z']\n",
    "names_2 = ['dered_u','dered_g','dered_r','dered_i','dered_z']\n",
    "\n",
    "# #이상치 제거\n",
    "# for i in range(len(fea)):\n",
    "#     tst=tst[tst[fea[i]]>np.min(tst[fea[i]], axis=0)]\n",
    "#     tst=tst[tst[fea[i]]<np.max(tst[fea[i]], axis=0)]\n",
    "    \n",
    "# # 설명변수와 반응변수 분리\n",
    "# tst_target = tst['class']\n",
    "# tst = tst.drop('class', axis=1)\n",
    "\n",
    "# 옵저브 디텍트 연속형으로 전환\n",
    "tst['nObserve']=tst['nObserve'].astype('float')\n",
    "tst['nDetect']=tst['nDetect'].astype('float')\n",
    "tstnO = tst['nObserve']\n",
    "tstnD = tst['nDetect']\n",
    "\n",
    "#카테고리별 max, min, max-min, std, sum을 구한다.\n",
    "#max-min\n",
    "tst['max-min'] = tst[all_fea].max(axis=1)-tst[all_fea].min(axis=1)\n",
    "tst['max-min_ugriz'] = tst[names].max(axis=1)-tst[names].min(axis=1)\n",
    "tst['max-min_dered'] = tst[names_2].max(axis=1)-tst[names_2].min(axis=1)\n",
    "#std\n",
    "tst['std'] = tst[all_fea].std(axis=1)\n",
    "tst['std_ugriz'] = tst[names].std(axis=1)\n",
    "tst['std_dered'] = tst[names_2].std(axis=1)\n",
    "#파장별 합\n",
    "tst['sum'] = tst[all_fea].sum(axis=1)\n",
    "tst['sum_ugriz'] = tst[names].sum(axis=1)\n",
    "tst['sum_dered'] = tst[names_2].sum(axis=1)\n",
    "#파장별 최대값\n",
    "tst['max'] = tst[all_fea].max(axis=1)\n",
    "tst['max_ugriz'] = tst[names].max(axis=1)\n",
    "tst['max_dered'] = tst[names_2].max(axis=1)\n",
    "#파장별 최소값\n",
    "tst['min'] = tst[all_fea].min(axis=1)\n",
    "tst['min_ugriz'] = tst[names].min(axis=1)\n",
    "tst['min_dered'] = tst[names_2].min(axis=1)\n",
    "#파장별 max-max,min=min,sum-sum\n",
    "tst['max-max']=tst[names].max(axis=1)-tst[names_2].max(axis=1)\n",
    "tst['min-min']=tst[names].min(axis=1)-tst[names_2].min(axis=1)\n",
    "tst['sum-sum']=tst[names].sum(axis=1)-tst[names_2].sum(axis=1)\n",
    "\n",
    "#왜도,첨도 구하기\n",
    "tst['skew']=skew(tst[names],axis=1)\n",
    "tst['kurtosis']=kurtosis(tst[names],axis=1)\n",
    "tst['dered_skew']=skew(tst[names_2],axis=1)\n",
    "tst['dered_kurtosis']=kurtosis(tst[names_2],axis=1)\n",
    "tst['airmass_skew']=skew(tst[airmass],axis=1)\n",
    "tst['airmass_kurtosis']=kurtosis(tst[airmass],axis=1)\n",
    "\n",
    "#조합으로 연산 피쳐 생성\n",
    "for c1,c2 in tqdm(itertools.combinations(fea2,2)):\n",
    "    dif_col=f'diff_{c1}_{c2}'\n",
    "    div_col=f'div_{c1}_{c2}'\n",
    "    sum_col=f'sum_{c1}_{c2}'\n",
    "    mul_col=f'mul_{c1}_{c2}'\n",
    "    tst[dif_col]=tst[c1]-tst[c2]\n",
    "    tst[div_col]=tst[c1]/tst[c2]\n",
    "    tst[sum_col]=tst[c1]+tst[c2]\n",
    "    tst[mul_col]=tst[c1]*tst[c2]\n",
    "\n",
    "\n",
    "# 소수점 4자리 까지만 나타내는 asinh 변수 생성\n",
    "tst['asinh_mu'] = -2.5/np.log(10)*(np.arcsinh(tst.u/24.63/(2.8e-10))-22.689378693319245)\n",
    "tst['asinh_mg'] = -2.5/np.log(10)*(np.arcsinh(tst.g/25.11/(1.8e-10))-23.131211445598282)\n",
    "tst['asinh_mr'] = -2.5/np.log(10)*(np.arcsinh(tst.r/24.80/(2.4e-10))-22.843529373146502)\n",
    "tst['asinh_mi'] = -2.5/np.log(10)*(np.arcsinh(tst.i/24.36/(3.6e-10))-22.43806426503834)\n",
    "tst['asinh_mz'] = -2.5/np.log(10)*(np.arcsinh(tst.z/22.83/(1.48e-09))-21.024370929730330)\n",
    "\n",
    "\n",
    "tst['redshift%14'] = tst['redshift']%14\n",
    "tst['log_redshift']=np.log1p(tst['redshift'])\n",
    "tst['log_redshift']=tst['log_redshift'].fillna(0)\n",
    "\n",
    "#도메인에서 얻은 파생변수 생성\n",
    "#출처: https://www.sdss.org/dr16/algorithms/segue_target_selection/#Legacy\n",
    "tst['l-color'] = (-0.436*tst['u']) + (1.129*tst['g']) - (0.119*tst['r']) - (0.574*tst['i']) + (0.1984)\n",
    "tst['s-color'] = (-0.249*tst['u']) + (0.794*tst['g']) - (0.555*tst['r']) + (0.234)\n",
    "tst['P1'] = (0.91*(tst['u']-tst['g'])) + (0.415*(tst['g']-tst['r'])) - (1.280)\n",
    "\n",
    "\n",
    "# tst['class'] = tst_target\n",
    "PI30_1=['dered_z','dered_g','div_dered_g_dered_z','sum_dered_i_nDetect','mul_dered_g_dered_z','sum_z_dered_i','diff_r_redshift','sum_u_redshift','sum_dered_r_nDetect','mul_g_dered_z','sum_dered_r_dered_z','div_r_nObserve','sum_i_redshift','diff_dered_g_dered_z','sum_dered_g_dered_r','sum_r_dered_z','diff_u_redshift','mul_u_dered_z','mul_dered_g_dered_r','mul_i_dered_r','div_i_dered_g','sum_r_redshift','div_u_dered_z','mul_r_z','div_g_z','diff_u_dered_z','mul_r_dered_g','sum_redshift_dered_z','u','div_redshift_dered_u']\n",
    "tst=tst[tst.columns.difference(PI30_1)]\n",
    "PI30_2=['mul_dered_g_nDetect','sum_r_nObserve','sum_i_dered_r','diff_z_nObserve','mul_nObserve_nDetect','asinh_mz','nObserve','asinh_mg','diff_g_dered_z','mul_g_dered_u','log_redshift','nDetect','mul_u_z','sum_r_nDetect','div_dered_i_nObserve','sum_i_z','sum_u_dered_r','dered_i','mul_g_dered_r','mul_z_dered_i','div_g_nDetect','diff_dered_g_nObserve','mul_r_dered_z','sum_i_nDetect','diff_z_dered_g','mul_g_z','sum_z_dered_z','mul_dered_u_nObserve','div_redshift_nObserve','dered_r']\n",
    "tst=tst[tst.columns.difference(PI30_2)]\n",
    "PI30_3=[\"mul_g_i\",\"sum_redshift_dered_u\",\"sum_g_i\",\"sum_z_dered_g\",\"sum_i_dered_z\",\"mul_r_dered_r\",\"div_g_i\",\"mul_dered_r_dered_i\",\"g\",\"div_dered_i_nDetect\",\"mul_dered_r_nObserve\",\"sum_r_i\",\"min_dered\",\"mul_i_dered_z\",\"div_dered_r_nObserve\",\"diff_dered_z_nDetect\",\"div_i_nDetect\",\"sum_nObserve_nDetect\",\"max_dered\",\"mul_g_r\",\"div_z_nObserve\",\"sum_i_dered_u\",\"mul_dered_r_nDetect\",\"div_dered_g_nObserve\",\"mul_r_i\",\"diff_i_nDetect\",\"sum_u_r\",\"sum_dered_g_nDetect\",\"div_u_nDetect\",\"sum_u_dered_g\"]\n",
    "tst=tst[tst.columns.difference(PI30_3)]\n",
    "PI30_4=[\"div_r_nDetect\",\"mul_u_g\",\"diff_dered_i_nDetect\",\"mul_u_i\",\"mul_dered_i_nObserve\",\"div_i_dered_i\",\"mul_i_nDetect\",\"mul_g_dered_g\",\"sum_u_dered_z\",\"mul_r_dered_i\",\"sum_g_dered_g\",\"sum_u_g\",\"mul_dered_u_dered_i\",\"sum_g_nDetect\",\"mul_z_nObserve\",\"mul_g_nDetect\",\"mul_dered_i_nDetect\",\"sum_dered_g_dered_i\",\"mul_u_dered_i\",\"div_dered_z_nDetect\",\"i\",\"sum_g_z\",\"sum_u_dered_u\",\"sum_g_r\",\"sum_dered\",\"mul_u_nDetect\",\"mul_i_dered_i\",\"mul_dered_g_nObserve\",\"div_dered_g_nDetect\",\"div_u_i\"]\n",
    "tst=tst[tst.columns.difference(PI30_4)]\n",
    "PI30_5=[\"asinh_mr\",\"div_dered_r_nDetect\",\"mul_z_dered_r\",\"mul_g_nObserve\",\"diff_u_nDetect\",\"sum_g_dered_u\",\"sum_redshift_dered_i\",\"div_i_nObserve\",\"div_g_nObserve\",\"z\",\"mul_dered_z_nObserve\",\"sum_dered_r_nObserve\",\"sum_z_dered_r\",\"sum_u_dered_i\",\"mul_u_dered_g\",\"mul_dered_u_dered_r\",\"diff_z_nDetect\",\"sum_r_dered_r\",\"sum_dered_u_dered_g\",\"asinh_mi\",\"diff_i_redshift\",\"diff_r_nObserve\",\"mul_i_nObserve\",\"diff_dered_r_nObserve\",\"sum_i_dered_i\",\"sum_r_dered_i\",\"diff_dered_r_nDetect\",\"sum_u_nObserve\",\"div_dered_u_nDetect\",\"sum_z_dered_u\"]\n",
    "tst=tst[tst.columns.difference(PI30_5)]\n",
    "PI30_6=[\"sum_dered_i_nObserve\",\"diff_nObserve_nDetect\",\"mul_dered_u_dered_z\",\"div_u_nObserve\",\"diff_u_nObserve\",\"diff_redshift_nDetect\",\"mul_u_nObserve\",\"diff_dered_g_nDetect\",\"sum_u_z\",\"max_ugriz\",\"sum_g_dered_r\",\"mul_r_nObserve\",\"div_z_nDetect\",\"max\",\"mul_dered_u_nDetect\",\"sum_i_nObserve\",\"diff_g_nDetect\",\"sum_dered_z_nDetect\",\"mul_z_nDetect\",\"mul_i_z\",\"diff_r_nDetect\",\"diff_g_nObserve\",\"div_g_dered_i\",\"mul_dered_z_nDetect\",\"mul_i_dered_u\",\"diff_dered_u_nObserve\",\"div_dered_z_nObserve\",\"mul_u_r\",\"diff_i_nObserve\",\"sum_ugriz\"]\n",
    "tst=tst[tst.columns.difference(PI30_6)]\n",
    "PI30_7=[\"dered_u\",\"mul_i_dered_g\",\"mul_r_dered_u\",\"mul_r_nDetect\",\"sum_dered_g_nObserve\",\"sum-sum\",\"diff_dered_u_dered_z\",\"diff_dered_u_nDetect\",\"mul_dered_r_dered_z\",\"sum_dered_u_nObserve\",\"diff_dered_i_nObserve\",\"diff_g_z\",\"diff_z_redshift\",\"diff_i_dered_g\",\"mul_z_dered_z\",\"min_ugriz\",\"diff_dered_z_nObserve\",\"mul_g_dered_i\",\"asinh_mu\",\"sum_dered_u_dered_r\",\"diff_u_z\",\"sum_u_nDetect\",\"std_ugriz\",\"sum_dered_r_dered_i\",\"sum_dered_z_nObserve\",\"mul_dered_u_dered_g\",\"sum_r_dered_g\",\"mul_u_dered_r\",\"max-min_ugriz\",\"diff_redshift_dered_r\"]\n",
    "tst=tst[tst.columns.difference(PI30_7)]\n",
    "PI30_8=[\"div_i_redshift\",\"sum_g_redshift\",\"div_r_dered_r\",\"mul_z_dered_g\",\"sum_redshift_nDetect\",\"diff_u_dered_u\",\"diff_i_dered_i\",\"diff_i_dered_u\",\"sum_g_dered_i\",\"diff_u_dered_i\",\"div_g_redshift\",\"sum_u_i\",\"div_z_dered_r\",\"sum_i_dered_g\",\"sum_redshift_dered_r\",\"sum_z_nObserve\",\"sum_dered_u_nDetect\",\"diff_redshift_nObserve\",\"sum_dered_u_dered_z\",\"div_g_dered_z\",\"sum_z_nDetect\",\"diff_redshift_dered_z\",\"div_dered_g_dered_i\",\"div_dered_u_nObserve\",\"mul_u_dered_u\",\"sum_r_z\",\"r\",\"max-min_dered\",\"mul_dered_g_dered_i\",\"sum_g_nObserve\"]\n",
    "tst=tst[tst.columns.difference(PI30_8)]"
   ]
  },
  {
   "cell_type": "code",
   "execution_count": 29,
   "metadata": {},
   "outputs": [
    {
     "data": {
      "text/plain": [
       "(80000, 124)"
      ]
     },
     "execution_count": 29,
     "metadata": {},
     "output_type": "execute_result"
    }
   ],
   "source": [
    "tst.shape"
   ]
  },
  {
   "cell_type": "code",
   "execution_count": 30,
   "metadata": {},
   "outputs": [],
   "source": [
    "tst_data = tst.copy()"
   ]
  },
  {
   "cell_type": "code",
   "execution_count": 31,
   "metadata": {},
   "outputs": [
    {
     "name": "stderr",
     "output_type": "stream",
     "text": [
      "[Parallel(n_jobs=8)]: Using backend ThreadingBackend with 8 concurrent workers.\n",
      "[Parallel(n_jobs=8)]: Done  34 tasks      | elapsed:    0.2s\n",
      "[Parallel(n_jobs=8)]: Done 184 tasks      | elapsed:    1.1s\n",
      "[Parallel(n_jobs=8)]: Done 200 out of 200 | elapsed:    1.2s finished\n"
     ]
    }
   ],
   "source": [
    "preds=voting_clf.predict(tst_data)"
   ]
  },
  {
   "cell_type": "code",
   "execution_count": 32,
   "metadata": {},
   "outputs": [],
   "source": [
    "sub = pd.read_csv('C:/python/DACON_DATA/sample_submission.csv')\n",
    "sub['class'] = preds.reshape(-1,1)\n",
    "sub.to_csv('submission_file/submission_LGB_RF_XG_ensemble09281930.csv')"
   ]
  },
  {
   "cell_type": "code",
   "execution_count": 33,
   "metadata": {},
   "outputs": [
    {
     "data": {
      "text/plain": [
       "2    40823\n",
       "0    29981\n",
       "1     9196\n",
       "dtype: int64"
      ]
     },
     "execution_count": 33,
     "metadata": {},
     "output_type": "execute_result"
    }
   ],
   "source": [
    "pd.Series(preds).value_counts()"
   ]
  },
  {
   "cell_type": "code",
   "execution_count": null,
   "metadata": {},
   "outputs": [],
   "source": []
  },
  {
   "cell_type": "code",
   "execution_count": null,
   "metadata": {},
   "outputs": [],
   "source": []
  },
  {
   "cell_type": "code",
   "execution_count": null,
   "metadata": {
    "scrolled": true
   },
   "outputs": [],
   "source": []
  },
  {
   "cell_type": "markdown",
   "metadata": {},
   "source": [
    "## 신경망 1,2 분류"
   ]
  },
  {
   "cell_type": "code",
   "execution_count": null,
   "metadata": {
    "scrolled": true
   },
   "outputs": [],
   "source": [
    "ftr=trn[trn[\"class\"]!=0].drop(\"class\",axis=1)\n",
    "target=trn[trn[\"class\"]!=0]['class']"
   ]
  },
  {
   "cell_type": "code",
   "execution_count": 24,
   "metadata": {
    "scrolled": true
   },
   "outputs": [
    {
     "name": "stderr",
     "output_type": "stream",
     "text": [
      "100%|███████████████████████████████████████████████████████████████████████████| 1060/1060 [00:00<00:00, 55940.24it/s]\n"
     ]
    },
    {
     "name": "stdout",
     "output_type": "stream",
     "text": [
      "{'diff_u_dered_g': 6, 'P1': 14, 'diff_u_dered_r': 12, 'diff_u_g': 6, 'diff_u_i': 14, 'diff_u_r': 14, 'div_u_g': 6, 'div_u_r': 14, 'airmass_i': 8, 'airmass_g': 8, 'airmass_r': 8, 'airmass_u': 8, 'airmass_z': 8, 'airmass_skew': 2, 'airmass_kurtosis': 2, 'kurtosis': 2, 'dered_kurtosis': 2, 'skew': 2, 'dered_skew': 2, 'diff_g_dered_i': 4, 'diff_dered_g_dered_i': 4, 'diff_g_i': 4, 'diff_g_r': 6, 'diff_dered_g_dered_r': 6, 'diff_r_dered_g': 2, 'div_dered_g_dered_r': 2, 'diff_i_dered_z': 4, 'diff_dered_i_dered_z': 4, 'div_dered_i_dered_z': 2, 'diff_r_i': 6, 'diff_dered_r_dered_i': 6, 'div_dered_r_dered_i': 6, 'div_r_i': 6, 'diff_r_dered_z': 4, 'diff_dered_r_dered_z': 4, 'div_dered_r_dered_z': 2, 'diff_g_dered_u': 2, 'diff_dered_u_dered_g': 4, 'div_dered_u_dered_g': 2, 'diff_dered_u_dered_r': 16, 'diff_dered_u_dered_i': 12, 'diff_r_dered_u': 14, 'div_dered_u_dered_i': 14, 'div_dered_u_dered_z': 8, 'div_i_dered_u': 8, 'div_dered_u_dered_r': 8, 'div_r_dered_u': 6, 'diff_g_dered_r': 4, 'div_g_r': 4, 'diff_redshift_dered_g': 22, 'diff_g_redshift': 20, 'diff_redshift_dered_i': 22, 'mul_dered_i_dered_z': 22, 'mul_z_dered_u': 24, 'sum_dered_g_dered_z': 22, 'sum_dered_i_dered_z': 22, 'sum_dered_u_dered_i': 24, 'sum_g_dered_z': 22, 'sum_r_dered_u': 22, 'sum_redshift_dered_g': 22, 'div_i_dered_z': 2, 'diff_z_dered_i': 4, 'diff_i_z': 4, 'div_z_dered_i': 4, 'div_r_dered_i': 2, 'diff_r_dered_i': 2, 'div_r_dered_z': 2, 'diff_z_dered_r': 2, 'diff_r_z': 2, 'diff_redshift_dered_u': 10, 'sum_z_redshift': 14, 'div_u_dered_i': 10, 'diff_z_dered_u': 4, 'div_z_dered_u': 2, 'div_z_dered_z': 2, 'diff_z_dered_z': 2, 'div_u_redshift': 4, 'div_r_redshift': 4, 'div_z_redshift': 4, 'div_redshift_dered_i': 28, 'div_redshift_dered_g': 28, 'div_redshift_dered_r': 28, 'div_redshift_dered_z': 28, 'mul_g_redshift': 28, 'mul_i_redshift': 28, 'mul_r_redshift': 28, 'mul_redshift_dered_g': 28, 'mul_redshift_dered_i': 28, 'mul_redshift_dered_r': 28, 'mul_redshift_dered_u': 28, 'mul_redshift_dered_z': 28, 'mul_u_redshift': 28, 'mul_z_redshift': 28, 'redshift': 28, 'mul_redshift_nObserve': 2, 'mul_redshift_nDetect': 2}\n",
      "\n",
      "['diff_redshift_dered_g', 'diff_redshift_dered_i', 'mul_dered_i_dered_z', 'mul_z_dered_u', 'sum_dered_g_dered_z', 'sum_dered_i_dered_z', 'sum_dered_u_dered_i', 'sum_g_dered_z', 'sum_r_dered_u', 'sum_redshift_dered_g', 'div_redshift_dered_i', 'div_redshift_dered_g', 'div_redshift_dered_r', 'div_redshift_dered_z', 'mul_g_redshift', 'mul_i_redshift', 'mul_r_redshift', 'mul_redshift_dered_g', 'mul_redshift_dered_i', 'mul_redshift_dered_r', 'mul_redshift_dered_u', 'mul_redshift_dered_z', 'mul_u_redshift', 'mul_z_redshift', 'redshift']\n",
      "['class', 'diff_g_dered_g', 'diff_i_dered_r', 'diff_r_dered_r', 'div_g_dered_g', 'div_g_dered_r', 'div_g_dered_u', 'div_i_dered_r', 'div_i_z', 'div_nObserve_nDetect', 'div_r_dered_g', 'div_r_z', 'div_redshift_nDetect', 'div_u_dered_g', 'div_u_dered_r', 'div_u_dered_u', 'div_u_z', 'div_z_dered_g', 'l-color', 'max-max', 'max-min', 'min', 'min-min', 'redshift%14', 's-color', 'std', 'std_dered', 'sum', 'sum_redshift_nObserve', 'diff_u_dered_g', 'P1', 'diff_u_dered_r', 'airmass_i', 'skew', 'kurtosis', 'diff_g_i', 'sum_dered_u_dered_i', 'sum_r_dered_u', 'diff_redshift_dered_u', 'sum_z_redshift', 'mul_redshift_dered_i', 'mul_redshift_nObserve']\n"
     ]
    }
   ],
   "source": [
    "corr = trn.loc[trn['class']!=0,:].corr()\n",
    "\n",
    "cor_list=[]\n",
    "\n",
    "for i in range(0,trn.loc[trn['class']!=0,:].shape[1]):\n",
    "    for j in range(0,trn.loc[trn['class']!=0,:].shape[1]):\n",
    "        if abs(corr.iloc[i,j])>=0.9 and corr.index[i]!=corr.columns[j]:\n",
    "            cor_list += [corr.columns[j]]\n",
    "            cor_list += [corr.index[i]]\n",
    "\n",
    "\n",
    "groupby=cor_list\n",
    "cor_result=dict()\n",
    "for ip in tqdm(cor_list):\n",
    "    cor_result[ip]=cor_list.count(ip)\n",
    "\n",
    "    \n",
    "final_corr= []\n",
    "for i in range(0,len(cor_result)):\n",
    "    if list(cor_result.values())[i] > 20 :\n",
    "        final_corr.append(list(cor_result.keys())[i])\n",
    "\n",
    "print(cor_result)\n",
    "print()\n",
    "print(final_corr)\n",
    "\n",
    "\n",
    "\n",
    "cols = list(trn.columns[~trn.columns.isin(list(cor_result.keys()))])\n",
    "\n",
    "for i in ['diff_u_dered_g','P1','diff_u_dered_r','airmass_i','skew','kurtosis','diff_g_i','sum_dered_u_dered_i','sum_r_dered_u','diff_redshift_dered_u','sum_z_redshift', 'mul_redshift_dered_i','mul_redshift_nObserve']:\n",
    "    cols.append(i)\n",
    "\n",
    "print(cols)"
   ]
  },
  {
   "cell_type": "code",
   "execution_count": 209,
   "metadata": {
    "scrolled": true
   },
   "outputs": [],
   "source": [
    "trn_nn=trn[cols]"
   ]
  },
  {
   "cell_type": "code",
   "execution_count": 210,
   "metadata": {
    "scrolled": true
   },
   "outputs": [],
   "source": [
    "trn_nn=trn_nn[trn_nn[\"class\"]!=0]"
   ]
  },
  {
   "cell_type": "code",
   "execution_count": 211,
   "metadata": {
    "scrolled": true
   },
   "outputs": [],
   "source": [
    "X=trn_nn.drop('class', axis=1)\n",
    "y=trn_nn['class']-1"
   ]
  },
  {
   "cell_type": "code",
   "execution_count": 212,
   "metadata": {
    "scrolled": true
   },
   "outputs": [
    {
     "data": {
      "text/plain": [
       "(199988, 41)"
      ]
     },
     "execution_count": 212,
     "metadata": {},
     "output_type": "execute_result"
    }
   ],
   "source": [
    "X.shape"
   ]
  },
  {
   "cell_type": "code",
   "execution_count": 213,
   "metadata": {
    "scrolled": true
   },
   "outputs": [],
   "source": [
    "X_train, X_val, y_train, y_val =  train_test_split(X,y,test_size=0.3,random_state=0)"
   ]
  },
  {
   "cell_type": "code",
   "execution_count": 214,
   "metadata": {
    "scrolled": true
   },
   "outputs": [],
   "source": [
    "from sklearn.preprocessing import StandardScaler\n",
    "scaler = StandardScaler()"
   ]
  },
  {
   "cell_type": "code",
   "execution_count": 215,
   "metadata": {
    "scrolled": true
   },
   "outputs": [
    {
     "data": {
      "text/plain": [
       "StandardScaler(copy=True, with_mean=True, with_std=True)"
      ]
     },
     "execution_count": 215,
     "metadata": {},
     "output_type": "execute_result"
    }
   ],
   "source": [
    "scaler.fit(X_train)"
   ]
  },
  {
   "cell_type": "code",
   "execution_count": 216,
   "metadata": {
    "scrolled": true
   },
   "outputs": [],
   "source": [
    "X_train = scaler.transform(X_train)\n",
    "X_test = scaler.transform(X_val)"
   ]
  },
  {
   "cell_type": "code",
   "execution_count": 217,
   "metadata": {
    "scrolled": true
   },
   "outputs": [],
   "source": [
    "from sklearn.neural_network import MLPClassifier"
   ]
  },
  {
   "cell_type": "code",
   "execution_count": 222,
   "metadata": {
    "scrolled": true
   },
   "outputs": [],
   "source": [
    "mlp = MLPClassifier(hidden_layer_sizes=(60,50),max_iter=100000,learning_rate_init=0.001,activation='relu')"
   ]
  },
  {
   "cell_type": "code",
   "execution_count": 223,
   "metadata": {
    "scrolled": false
   },
   "outputs": [
    {
     "data": {
      "text/plain": [
       "MLPClassifier(activation='relu', alpha=0.0001, batch_size='auto', beta_1=0.9,\n",
       "              beta_2=0.999, early_stopping=False, epsilon=1e-08,\n",
       "              hidden_layer_sizes=(60, 50), learning_rate='constant',\n",
       "              learning_rate_init=0.001, max_iter=100000, momentum=0.9,\n",
       "              n_iter_no_change=10, nesterovs_momentum=True, power_t=0.5,\n",
       "              random_state=None, shuffle=True, solver='adam', tol=0.0001,\n",
       "              validation_fraction=0.1, verbose=False, warm_start=False)"
      ]
     },
     "execution_count": 223,
     "metadata": {},
     "output_type": "execute_result"
    }
   ],
   "source": [
    "mlp.fit(X_train, y_train)"
   ]
  },
  {
   "cell_type": "code",
   "execution_count": null,
   "metadata": {
    "scrolled": true
   },
   "outputs": [],
   "source": [
    "prob=mlp.predict_proba(X_val)\n",
    "prob"
   ]
  },
  {
   "cell_type": "code",
   "execution_count": null,
   "metadata": {
    "scrolled": true
   },
   "outputs": [],
   "source": [
    "predictions = mlp.predict(X_val)\n",
    "predictions_train = mlp.predict(X_train)\n",
    "print('***valid_1***')\n",
    "print(get_clf_eval(y_val,predictions))\n",
    "print()\n",
    "print('***train_1***')\n",
    "print(get_clf_eval(y_train,predictions_train))"
   ]
  }
 ],
 "metadata": {
  "kernelspec": {
   "display_name": "Python 3",
   "language": "python",
   "name": "python3"
  },
  "language_info": {
   "codemirror_mode": {
    "name": "ipython",
    "version": 3
   },
   "file_extension": ".py",
   "mimetype": "text/x-python",
   "name": "python",
   "nbconvert_exporter": "python",
   "pygments_lexer": "ipython3",
   "version": "3.7.4"
  }
 },
 "nbformat": 4,
 "nbformat_minor": 2
}
